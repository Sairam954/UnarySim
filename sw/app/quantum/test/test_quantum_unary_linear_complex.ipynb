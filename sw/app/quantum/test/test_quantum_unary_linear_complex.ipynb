{
 "cells": [
  {
   "cell_type": "code",
   "execution_count": 1,
   "metadata": {},
   "outputs": [],
   "source": [
    "%load_ext autoreload\n",
    "%autoreload 2"
   ]
  },
  {
   "cell_type": "code",
   "execution_count": 2,
   "metadata": {},
   "outputs": [],
   "source": [
    "import torch\n",
    "from UnarySim.sw.quantum.linear_complex import UnaryLinearComplex, LinearComplex\n",
    "from UnarySim.sw.stream.gen import RNG, SourceGen, BSGen\n",
    "from UnarySim.sw.metric.metric import ProgressiveError\n",
    "import matplotlib.pyplot as plt\n",
    "import time"
   ]
  },
  {
   "cell_type": "code",
   "execution_count": 3,
   "metadata": {},
   "outputs": [],
   "source": [
    "device = torch.device(\"cuda:0\" if torch.cuda.is_available() else \"cpu\")"
   ]
  },
  {
   "cell_type": "code",
   "execution_count": 4,
   "metadata": {},
   "outputs": [],
   "source": [
    "def unary_linear_complex_test(rng=\"Sobol\", in_feature=16, out_feature=16, bitwidth=8):\n",
    "    mode = \"bipolar\"\n",
    "    stype = torch.float\n",
    "    btype = torch.float\n",
    "    rtype = torch.float\n",
    "    scaled = [True, False]\n",
    "    result_pe_r = []\n",
    "    result_pe_i = []\n",
    "    \n",
    "    for scale in scaled:\n",
    "        run_time = 0\n",
    "        length = 2**bitwidth\n",
    "        result_pe_cycle_r = []\n",
    "        result_pe_cycle_i = []\n",
    "\n",
    "        wr = torch.rand(out_feature, in_feature).mul(2).sub(1).mul(length).round().div(length).to(device)\n",
    "        wi = torch.rand(out_feature, in_feature).mul(2).sub(1).mul(length).round().div(length).to(device)\n",
    "        \n",
    "        fc = LinearComplex(in_feature, out_feature, wr, wi).to(device)\n",
    "        \n",
    "        ufc = UnaryLinearComplex(in_feature, out_feature, wr, wi, \n",
    "                                 bitwidth=bitwidth, scaled=scale, \n",
    "                                 stype=stype, btype=btype, rtype=rtype).to(device)\n",
    "\n",
    "        iVec_r = ((torch.rand(1, in_feature).mul(2).sub(1)*length).round()/length).to(device)\n",
    "        iVec_i = ((torch.rand(1, in_feature).mul(2).sub(1)*length).round()/length).to(device)\n",
    "        \n",
    "        start_time = time.time()\n",
    "        oVec_r, oVec_i = fc(iVec_r, iVec_i)\n",
    "        print(\"--- %s seconds ---\" % (time.time() - start_time))\n",
    "        \n",
    "        iVecSRC_r = SourceGen(iVec_r, bitwidth=bitwidth, mode=mode, rtype=rtype)().to(device)\n",
    "        iVecSRC_i = SourceGen(iVec_i, bitwidth=bitwidth, mode=mode, rtype=rtype)().to(device)\n",
    "\n",
    "        iVecRNG = RNG(bitwidth, 1, rng, rtype=rtype)().to(device)\n",
    "\n",
    "        iVecBS_r = BSGen(iVecSRC_r, iVecRNG, stype=stype).to(device)\n",
    "        iVecBS_i = BSGen(iVecSRC_i, iVecRNG, stype=stype).to(device)\n",
    "            \n",
    "        iVecPE_r = ProgressiveError(iVec_r, scale=1, mode=mode).to(device)\n",
    "        iVecPE_i = ProgressiveError(iVec_i, scale=1, mode=mode).to(device)\n",
    "        \n",
    "        if scale is True:\n",
    "            oVecPE_r = ProgressiveError(oVec_r, scale=in_feature*2, mode=mode).to(device)\n",
    "            oVecPE_i = ProgressiveError(oVec_i, scale=in_feature*2, mode=mode).to(device)\n",
    "        else:\n",
    "            oVecPE_r = ProgressiveError(oVec_r, scale=1, mode=mode).to(device)\n",
    "            oVecPE_i = ProgressiveError(oVec_i, scale=1, mode=mode).to(device)\n",
    "        \n",
    "        with torch.no_grad():\n",
    "            idx = torch.zeros(iVecSRC_r.size()).type(torch.long).to(device)\n",
    "            \n",
    "            for i in range(length):\n",
    "                iBS_r = iVecBS_r(idx + i)\n",
    "                iVecPE_r.Monitor(iBS_r)\n",
    "                iBS_i = iVecBS_i(idx + i)\n",
    "                iVecPE_i.Monitor(iBS_i)\n",
    "                \n",
    "                start_time = time.time()\n",
    "                oVecU_r, oVecU_i = ufc(iBS_r, iBS_i)\n",
    "                run_time = time.time() - start_time + run_time\n",
    "                \n",
    "                oVecPE_r.Monitor(oVecU_r)\n",
    "                oVecPE_i.Monitor(oVecU_i)\n",
    "                \n",
    "                err_r = oVecPE_r()[1]\n",
    "                rmse_r = 1-torch.sqrt(torch.mean(err_r**2)).item()\n",
    "                err_i = oVecPE_i()[1]\n",
    "                rmse_i = 1-torch.sqrt(torch.mean(err_i**2)).item()\n",
    "                result_pe_cycle_r.append(rmse_r)\n",
    "                result_pe_cycle_i.append(rmse_i)\n",
    "            print(\"--- %s seconds ---\" % (run_time))\n",
    "            print(\"input r error: \", \"min:\", torch.min(iVecPE_r()[1]).item(), \"max:\", torch.max(iVecPE_r()[1]).item())\n",
    "            print(\"output r error: \", \"min:\", torch.min(oVecPE_r()[1]).item(), \"max:\", torch.max(oVecPE_r()[1]).item())\n",
    "            result_pe_r = oVecPE_r()[1][0].cpu().numpy()\n",
    "            \n",
    "            print(\"input i error: \", \"min:\", torch.min(iVecPE_i()[1]).item(), \"max:\", torch.max(iVecPE_i()[1]).item())\n",
    "            print(\"output i error: \", \"min:\", torch.min(oVecPE_i()[1]).item(), \"max:\", torch.max(oVecPE_i()[1]).item())\n",
    "            result_pe_i = oVecPE_i()[1][0].cpu().numpy()\n",
    "            \n",
    "            print(\"r error distribution=========>\")\n",
    "            plt.figure(figsize=(3,1.5))\n",
    "            fig = plt.hist(result_pe_r, bins='auto')  # arguments are passed to np.histogram\n",
    "            plt.title(\"data: \"+mode+\", scaled: \"+str(scale))\n",
    "            plt.show()\n",
    "            print(\"r progressive accuracy=========>\")\n",
    "            plt.figure(figsize=(3,1.5))\n",
    "            fig = plt.plot(result_pe_cycle_r)  # arguments are passed to np.histogram\n",
    "            plt.title(\"data: \"+mode+\", scaled: \"+str(scale))\n",
    "            plt.show()\n",
    "            \n",
    "            print(\"i error distribution=========>\")\n",
    "            plt.figure(figsize=(3,1.5))\n",
    "            fig = plt.hist(result_pe_i, bins='auto')  # arguments are passed to np.histogram\n",
    "            plt.title(\"data: \"+mode+\", scaled: \"+str(scale))\n",
    "            plt.show()\n",
    "            print(\"i progressive accuracy=========>\")\n",
    "            plt.figure(figsize=(3,1.5))\n",
    "            fig = plt.plot(result_pe_cycle_i)  # arguments are passed to np.histogram\n",
    "            plt.title(\"data: \"+mode+\", scaled: \"+str(scale))\n",
    "            plt.show()\n"
   ]
  },
  {
   "cell_type": "code",
   "execution_count": 5,
   "metadata": {
    "scrolled": false
   },
   "outputs": [
    {
     "name": "stdout",
     "output_type": "stream",
     "text": [
      "--- 0.1599903106689453 seconds ---\n",
      "--- 13.111938238143921 seconds ---\n",
      "input r error:  min: -0.000244140625 max: 0.000244140625\n",
      "output r error:  min: -0.0005591101944446564 max: -7.463246583938599e-05\n",
      "input i error:  min: -0.000244140625 max: 0.000244140625\n",
      "output i error:  min: -0.0006658956408500671 max: -0.00019600987434387207\n",
      "r error distribution=========>\n"
     ]
    },
    {
     "data": {
      "image/png": "[encoded data removed]",
      "text/plain": [
       "<Figure size 216x108 with 1 Axes>"
      ]
     },
     "metadata": {
      "needs_background": "light"
     },
     "output_type": "display_data"
    },
    {
     "name": "stdout",
     "output_type": "stream",
     "text": [
      "r progressive accuracy=========>\n"
     ]
    },
    {
     "data": {
      "image/png": "[encoded data removed]",
      "text/plain": [
       "<Figure size 216x108 with 1 Axes>"
      ]
     },
     "metadata": {
      "needs_background": "light"
     },
     "output_type": "display_data"
    },
    {
     "name": "stdout",
     "output_type": "stream",
     "text": [
      "i error distribution=========>\n"
     ]
    },
    {
     "data": {
      "image/png": "[encoded data removed]",
      "text/plain": [
       "<Figure size 216x108 with 1 Axes>"
      ]
     },
     "metadata": {
      "needs_background": "light"
     },
     "output_type": "display_data"
    },
    {
     "name": "stdout",
     "output_type": "stream",
     "text": [
      "i progressive accuracy=========>\n"
     ]
    },
    {
     "data": {
      "image/png": "[encoded data removed]",
      "text/plain": [
       "<Figure size 216x108 with 1 Axes>"
      ]
     },
     "metadata": {
      "needs_background": "light"
     },
     "output_type": "display_data"
    },
    {
     "name": "stdout",
     "output_type": "stream",
     "text": [
      "--- 0.0 seconds ---\n",
      "--- 13.183039903640747 seconds ---\n",
      "input r error:  min: -0.000244140625 max: 0.000244140625\n",
      "output r error:  min: -0.004683852195739746 max: 0.0009765625\n",
      "input i error:  min: -0.000244140625 max: 0.000244140625\n",
      "output i error:  min: -0.00048828125 max: 0.006905317306518555\n",
      "r error distribution=========>\n"
     ]
    },
    {
     "data": {
      "image/png": "[encoded data removed]",
      "text/plain": [
       "<Figure size 216x108 with 1 Axes>"
      ]
     },
     "metadata": {
      "needs_background": "light"
     },
     "output_type": "display_data"
    },
    {
     "name": "stdout",
     "output_type": "stream",
     "text": [
      "r progressive accuracy=========>\n"
     ]
    },
    {
     "data": {
      "image/png": "[encoded data removed]",
      "text/plain": [
       "<Figure size 216x108 with 1 Axes>"
      ]
     },
     "metadata": {
      "needs_background": "light"
     },
     "output_type": "display_data"
    },
    {
     "name": "stdout",
     "output_type": "stream",
     "text": [
      "i error distribution=========>\n"
     ]
    },
    {
     "data": {
      "image/png": "[encoded data removed]",
      "text/plain": [
       "<Figure size 216x108 with 1 Axes>"
      ]
     },
     "metadata": {
      "needs_background": "light"
     },
     "output_type": "display_data"
    },
    {
     "name": "stdout",
     "output_type": "stream",
     "text": [
      "i progressive accuracy=========>\n"
     ]
    },
    {
     "data": {
      "image/png": "[encoded data removed]",
      "text/plain": [
       "<Figure size 216x108 with 1 Axes>"
      ]
     },
     "metadata": {
      "needs_background": "light"
     },
     "output_type": "display_data"
    }
   ],
   "source": [
    "rng = \"Sobol\"\n",
    "in_feature = 16\n",
    "out_feature = in_feature\n",
    "bitwidth = 12\n",
    "unary_linear_complex_test(rng, in_feature, out_feature, bitwidth)"
   ]
  },
  {
   "cell_type": "code",
   "execution_count": null,
   "metadata": {},
   "outputs": [],
   "source": []
  }
 ],
 "metadata": {
  "kernelspec": {
   "display_name": "Python 3",
   "language": "python",
   "name": "python3"
  },
  "language_info": {
   "codemirror_mode": {
    "name": "ipython",
    "version": 3
   },
   "file_extension": ".py",
   "mimetype": "text/x-python",
   "name": "python",
   "nbconvert_exporter": "python",
   "pygments_lexer": "ipython3",
   "version": "3.7.3"
  }
 },
 "nbformat": 4,
 "nbformat_minor": 2
}
