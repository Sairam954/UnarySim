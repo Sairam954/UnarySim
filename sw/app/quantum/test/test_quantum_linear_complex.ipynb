{
 "cells": [
  {
   "cell_type": "code",
   "execution_count": 1,
   "metadata": {},
   "outputs": [],
   "source": [
    "%load_ext autoreload\n",
    "%autoreload 2"
   ]
  },
  {
   "cell_type": "code",
   "execution_count": 2,
   "metadata": {},
   "outputs": [],
   "source": [
    "import torch\n",
    "from UnarySim.sw.quantum.linear_complex import LinearComplex\n",
    "import numpy as np\n",
    "import matplotlib.pyplot as plt\n",
    "import time"
   ]
  },
  {
   "cell_type": "code",
   "execution_count": 3,
   "metadata": {},
   "outputs": [],
   "source": [
    "device = torch.device(\"cuda:0\" if torch.cuda.is_available() else \"cpu\")"
   ]
  },
  {
   "cell_type": "code",
   "execution_count": 4,
   "metadata": {},
   "outputs": [],
   "source": [
    "def linear_complex_test(in_feature=16, out_feature=16):\n",
    "    result_pe_r = []\n",
    "    result_pe_i = []\n",
    "    \n",
    "    wr = torch.rand(out_feature, in_feature).mul(2).sub(1).to(device)\n",
    "    wi = torch.rand(out_feature, in_feature).mul(2).sub(1).to(device)\n",
    "    \n",
    "    fc = LinearComplex(in_feature, out_feature, wr.t(), wi.t()).to(device)\n",
    "    \n",
    "    iVec_r = (torch.rand(1, in_feature).mul(2).sub(1)).to(device)\n",
    "    iVec_i = (torch.rand(1, in_feature).mul(2).sub(1)).to(device)\n",
    "    \n",
    "    w = wr.cpu().numpy() + wi.cpu().numpy() * 1.j\n",
    "    iVec = iVec_r.cpu().numpy() + iVec_i.cpu().numpy() * 1.j\n",
    "    \n",
    "    oVec = np.matmul(iVec, w)\n",
    "\n",
    "    oVec_r, oVec_i = fc(iVec_r, iVec_i)\n",
    "\n",
    "    with torch.no_grad():\n",
    "        start_time = time.time()\n",
    "        err_r = oVec.real - oVec_r.cpu().numpy()\n",
    "        rmse_r = 1-np.sqrt(np.mean(err_r**2))/out_feature/2\n",
    "        print(\"output r error: \", \"min:\", np.min(err_r), \"max:\", np.max(err_r))\n",
    "        result_pe_r = err_r[0]/out_feature/2\n",
    "        print(\"r error distribution=========>\")\n",
    "        plt.figure(figsize=(3,1.5))\n",
    "        fig = plt.hist(result_pe_r, bins='auto')  # arguments are passed to np.histogram\n",
    "        plt.title(\"r error\")\n",
    "        plt.show()\n",
    "        \n",
    "        err_i = oVec.imag - oVec_i.cpu().numpy()\n",
    "        rmse_i = 1-np.sqrt(np.mean(err_i**2))/out_feature/2\n",
    "        print(\"output i error: \", \"min:\", np.min(err_i), \"max:\", np.max(err_i))\n",
    "        result_pe_i = err_i[0]/out_feature/2\n",
    "        print(\"i error distribution=========>\")\n",
    "        plt.figure(figsize=(3,1.5))\n",
    "        fig = plt.hist(result_pe_i, bins='auto')  # arguments are passed to np.histogram\n",
    "        plt.title(\"i error\")\n",
    "        plt.show()\n"
   ]
  },
  {
   "cell_type": "code",
   "execution_count": 5,
   "metadata": {
    "scrolled": false
   },
   "outputs": [
    {
     "name": "stdout",
     "output_type": "stream",
     "text": [
      "output r error:  min: 0.0 max: 7.450581e-09\n",
      "r error distribution=========>\n"
     ]
    },
    {
     "data": {
      "image/png": "[encoded data removed]",
      "text/plain": [
       "<Figure size 216x108 with 1 Axes>"
      ]
     },
     "metadata": {
      "needs_background": "light"
     },
     "output_type": "display_data"
    },
    {
     "name": "stdout",
     "output_type": "stream",
     "text": [
      "output i error:  min: -2.9802322e-08 max: 0.0\n",
      "i error distribution=========>\n"
     ]
    },
    {
     "data": {
      "image/png": "[encoded data removed]",
      "text/plain": [
       "<Figure size 216x108 with 1 Axes>"
      ]
     },
     "metadata": {
      "needs_background": "light"
     },
     "output_type": "display_data"
    }
   ],
   "source": [
    "in_feature = 4\n",
    "out_feature = in_feature\n",
    "linear_complex_test(in_feature, out_feature)"
   ]
  },
  {
   "cell_type": "code",
   "execution_count": null,
   "metadata": {},
   "outputs": [],
   "source": []
  }
 ],
 "metadata": {
  "kernelspec": {
   "display_name": "Python 3",
   "language": "python",
   "name": "python3"
  },
  "language_info": {
   "codemirror_mode": {
    "name": "ipython",
    "version": 3
   },
   "file_extension": ".py",
   "mimetype": "text/x-python",
   "name": "python",
   "nbconvert_exporter": "python",
   "pygments_lexer": "ipython3",
   "version": "3.7.3"
  }
 },
 "nbformat": 4,
 "nbformat_minor": 2
}
