{
 "cells": [
  {
   "cell_type": "code",
   "execution_count": null,
   "metadata": {},
   "outputs": [],
   "source": [
    "def prune(input_list):\n",
    "    l = []\n",
    "\n",
    "    for e in input_list:\n",
    "        e = e.strip() # remove the leading and trailing characters, here space\n",
    "        if e != '' and e != ' ':\n",
    "            l.append(e)\n",
    "\n",
    "    return l"
   ]
  },
  {
   "cell_type": "code",
   "execution_count": null,
   "metadata": {},
   "outputs": [],
   "source": [
    "def result_plot(file=None):\n",
    "    hub_acc_list = []\n",
    "    fxp_o_acc_list = []\n",
    "    fxp_i_acc_list = []\n",
    "    csv_file = open(file, 'r')\n",
    "    first = True\n",
    "    for row in csv_file:\n",
    "        if first is True:\n",
    "            first = False\n",
    "            continue\n",
    "            \n",
    "        elems = row.strip().split(',')\n",
    "        elems = prune(elems)\n",
    "        hub_acc_list.append(float(elems[1]))\n",
    "        fxp_o_acc_list.append(float(elems[3]))\n",
    "        fxp_i_acc_list.append(float(elems[5]))\n",
    "    csv_file.close()\n",
    "    return hub_acc_list, fxp_o_acc_list, fxp_i_acc_list"
   ]
  },
  {
   "cell_type": "code",
   "execution_count": null,
   "metadata": {},
   "outputs": [],
   "source": [
    "convnet_mnist_hub_acc, convnet_mnist_fxp_o_acc, convnet_mnist_fxp_i_acc = result_plot(file=\"../convnet_mnist/convnet_mnist_result.csv\")\n",
    "del convnet_mnist_hub_acc[-2]\n",
    "del convnet_mnist_fxp_o_acc[-2]\n",
    "del convnet_mnist_fxp_i_acc[-2]\n",
    "\n",
    "print(convnet_mnist_hub_acc)\n",
    "print(convnet_mnist_fxp_o_acc)\n",
    "print(convnet_mnist_fxp_i_acc)"
   ]
  },
  {
   "cell_type": "code",
   "execution_count": 4,
   "metadata": {},
   "outputs": [],
   "source": [
    "resnet18_cifar10_hub_acc, resnet18_cifar10_fxp_o_acc, resnet18_cifar10_fxp_i_acc = result_plot(file=\"../resnet18_cifar10/resnet18_cifar10_result.csv\")\n",
    "del resnet18_cifar10_hub_acc[-2]\n",
    "del resnet18_cifar10_fxp_o_acc[-2]\n",
    "del resnet18_cifar10_fxp_i_acc[-2]\n",
    "\n",
    "print(resnet18_cifar10_hub_acc)\n",
    "print(resnet18_cifar10_fxp_o_acc)\n",
    "print(resnet18_cifar10_fxp_i_acc)"
   ]
  },
  {
   "cell_type": "code",
   "execution_count": 5,
   "metadata": {},
   "outputs": [
    {
     "name": "stdout",
     "output_type": "stream",
     "text": [
      "[0.13, 0.24, 2.474, 21.672, 42.438, 50.402, 53.452, 56.55]\n",
      "[0.13, 0.74, 0.964, 17.108, 18.508, 46.988, 49.036, 56.55]\n",
      "[48.66, 53.656, 54.694, 54.772, 54.932, 54.962, 54.976, 56.55]\n"
     ]
    }
   ],
   "source": [
    "alexnet_imagenet_hub_acc, alexnet_imagenet_fxp_o_acc, alexnet_imagenet_fxp_i_acc = result_plot(file=\"../alexnet_imagenet/alexnet_imagenet_result.csv\")\n",
    "del alexnet_imagenet_hub_acc[-2]\n",
    "del alexnet_imagenet_fxp_o_acc[-2]\n",
    "del alexnet_imagenet_fxp_i_acc[-2]\n",
    "\n",
    "print(alexnet_imagenet_hub_acc)\n",
    "print(alexnet_imagenet_fxp_o_acc)\n",
    "print(alexnet_imagenet_fxp_i_acc)"
   ]
  },
  {
   "cell_type": "code",
   "execution_count": 6,
   "metadata": {},
   "outputs": [],
   "source": [
    "import matplotlib\n",
    "import matplotlib.pyplot as plt\n",
    "import numpy as np\n",
    "import math\n",
    "\n",
    "font = {'family':'Times New Roman', 'size': 6}\n",
    "\n",
    "matplotlib.rc('font', **font)"
   ]
  },
  {
   "cell_type": "code",
   "execution_count": 7,
   "metadata": {},
   "outputs": [],
   "source": [
    "def autolabel(rects, data):\n",
    "    \"\"\"Attach a text label above each bar in *rects*, displaying its height.\"\"\"\n",
    "    for rect in rects:\n",
    "        height = rect.get_height()\n",
    "        if height < data - 5 or height == data:\n",
    "            ax.annotate('{:.2f}'.format(height),\n",
    "                    xy=(rect.get_x() + rect.get_width() / 2, height),\n",
    "                    xytext=(0, 2),  # 3 points vertical offset\n",
    "                    textcoords=\"offset points\",\n",
    "                    ha='center', va='bottom')"
   ]
  },
  {
   "cell_type": "code",
   "execution_count": 8,
   "metadata": {},
   "outputs": [],
   "source": [
    "my_dpi = 300\n",
    "fig_h = 1.1\n",
    "fig_w = 3.3115\n",
    "alpha = 1"
   ]
  },
  {
   "cell_type": "code",
   "execution_count": 9,
   "metadata": {},
   "outputs": [
    {
     "name": "stdout",
     "output_type": "stream",
     "text": [
      "95 100\n"
     ]
    },
    {
     "data": {
      "image/png": "[encoded data removed]",
      "text/plain": [
       "<Figure size 238.428x79.2 with 1 Axes>"
      ]
     },
     "metadata": {
      "needs_background": "light"
     },
     "output_type": "display_data"
    }
   ],
   "source": [
    "labels = ['32-6', '64-7', '128-8', '256-9', '512-10', '1024-11', '2048-12']\n",
    "x = np.arange(len(labels))  # the label locations\n",
    "data1 = convnet_mnist_hub_acc[0:len(convnet_mnist_hub_acc)-1]\n",
    "data2 = convnet_mnist_fxp_o_acc[0:len(convnet_mnist_fxp_o_acc)-1]\n",
    "data3 = convnet_mnist_fxp_i_acc[0:len(convnet_mnist_fxp_i_acc)-1]\n",
    "data4 = convnet_mnist_fxp_i_acc[-1]\n",
    "\n",
    "fig, ax = plt.subplots(figsize=(fig_w, fig_h))\n",
    "ax.plot(x, data1, \"-o\", label=\"uSystolic\", alpha=alpha, color=\"#7A81FF\", ms=4)\n",
    "ax.plot(x, data2, \"-s\", label=\"FXP-o-res\", alpha=alpha, color=\"#FF7F7F\", ms=4)\n",
    "ax.plot(x, data3, \"-^\", label=\"FXP-i-res\", alpha=alpha, color=\"#D783FF\", ms=4)\n",
    "ax.plot([x[-1]+1], data4, \"*\", label=\"FP32\", color=\"#CCCCCC\", ms=4)\n",
    "\n",
    "x = np.append(x, x[-1]+1)\n",
    "labels.append('Baseline')\n",
    "ax.set_xticks(x)\n",
    "ax.set_xticklabels(labels)\n",
    "ax.set_ylabel('Top-1 accuracy (%)')\n",
    "bot = int(math.floor(min([min(data1), min(data2), min(data3), data4]) / 5) * 5)\n",
    "top = int(math.ceil( max([max(data1), max(data2), max(data3), data4]) / 5) * 5)\n",
    "print(bot, top)\n",
    "ax.set_ylim(bot, top)\n",
    "ax.set_yticks([96, 98, 100])\n",
    "ax.set_yticklabels([\" 96\", \" 98\", \"100\"])\n",
    "\n",
    "ax.legend(loc=\"lower right\", ncol=2, frameon=False)\n",
    "\n",
    "fig.tight_layout()\n",
    "plt.show()\n",
    "fig.savefig(\"convnet_mnist_acc.pdf\", bbox_inches='tight', dpi=my_dpi)"
   ]
  },
  {
   "cell_type": "code",
   "execution_count": 10,
   "metadata": {},
   "outputs": [
    {
     "name": "stdout",
     "output_type": "stream",
     "text": [
      "15 100\n"
     ]
    },
    {
     "data": {
      "image/png": "[encoded data removed]",
      "text/plain": [
       "<Figure size 238.428x79.2 with 1 Axes>"
      ]
     },
     "metadata": {
      "needs_background": "light"
     },
     "output_type": "display_data"
    }
   ],
   "source": [
    "labels = ['32-6', '64-7', '128-8', '256-9', '512-10', '1024-11', '2048-12']\n",
    "x = np.arange(len(labels))  # the label locations\n",
    "width = 0.35  # the width of the bars\n",
    "data1 = resnet18_cifar10_hub_acc[0:len(resnet18_cifar10_hub_acc)-1]\n",
    "data2 = resnet18_cifar10_fxp_o_acc[0:len(resnet18_cifar10_fxp_o_acc)-1]\n",
    "data3 = resnet18_cifar10_fxp_i_acc[0:len(resnet18_cifar10_fxp_i_acc)-1]\n",
    "data4 = resnet18_cifar10_fxp_i_acc[-1]\n",
    "\n",
    "fig, ax = plt.subplots(figsize=(fig_w, fig_h))\n",
    "ax.plot(x, data1, \"-o\", label=\"uSystolic\", alpha=alpha, color=\"#7A81FF\", ms=4)\n",
    "ax.plot(x, data2, \"-s\", label=\"FXP-o-res\", alpha=alpha, color=\"#FF7F7F\", ms=4)\n",
    "ax.plot(x, data3, \"-^\", label=\"FXP-i-res\", alpha=alpha, color=\"#D783FF\", ms=4)\n",
    "ax.plot([x[-1]+1], data4, \"*\", label=\"FP32\", color=\"#CCCCCC\", ms=4)\n",
    "\n",
    "x = np.append(x, x[-1]+1)\n",
    "labels.append('Baseline')\n",
    "ax.set_xticks(x)\n",
    "ax.set_xticklabels(labels)\n",
    "ax.set_ylabel('Top-1 accuracy (%)')\n",
    "bot = int(math.floor(min([min(data1), min(data2), min(data3), data4]) / 5) * 5)\n",
    "top = int(math.ceil( max([max(data1), max(data2), max(data3), data4]) / 5) * 5)\n",
    "print(bot, top)\n",
    "ax.set_ylim(bot, top+5)\n",
    "ax.set_yticks([20, 60, 100])\n",
    "ax.set_yticklabels([\" 20\", \" 60\", \"100\"])\n",
    "\n",
    "fig.tight_layout()\n",
    "plt.show()\n",
    "fig.savefig(\"resnet18_cifar10_acc.pdf\", bbox_inches='tight', dpi=my_dpi)"
   ]
  },
  {
   "cell_type": "code",
   "execution_count": 11,
   "metadata": {},
   "outputs": [
    {
     "name": "stdout",
     "output_type": "stream",
     "text": [
      "0 60\n"
     ]
    },
    {
     "data": {
      "image/png": "[encoded data removed]",
      "text/plain": [
       "<Figure size 238.428x79.2 with 1 Axes>"
      ]
     },
     "metadata": {
      "needs_background": "light"
     },
     "output_type": "display_data"
    }
   ],
   "source": [
    "labels = ['32-6', '64-7', '128-8', '256-9', '512-10', '1024-11', '2048-12']\n",
    "x = np.arange(len(labels))  # the label locations\n",
    "width = 0.35  # the width of the bars\n",
    "data1 = alexnet_imagenet_hub_acc[0:len(alexnet_imagenet_hub_acc)-1]\n",
    "data2 = alexnet_imagenet_fxp_o_acc[0:len(alexnet_imagenet_fxp_o_acc)-1]\n",
    "data3 = alexnet_imagenet_fxp_i_acc[0:len(alexnet_imagenet_fxp_i_acc)-1]\n",
    "data4 = alexnet_imagenet_fxp_i_acc[-1]\n",
    "\n",
    "fig, ax = plt.subplots(figsize=(fig_w, fig_h))\n",
    "ax.plot(x, data1, \"-o\", label=\"uSystolic\", alpha=alpha, color=\"#7A81FF\", ms=4)\n",
    "ax.plot(x, data2, \"-s\", label=\"FXP-o-res\", alpha=alpha, color=\"#FF7F7F\", ms=4)\n",
    "ax.plot(x, data3, \"-^\", label=\"FXP-i-res\", alpha=alpha, color=\"#D783FF\", ms=4)\n",
    "ax.plot([x[-1]+1], data4, \"*\", label=\"FP32\", color=\"#CCCCCC\", ms=4)\n",
    "\n",
    "x = np.append(x, x[-1]+1)\n",
    "labels.append('Baseline')\n",
    "ax.set_xticks(x)\n",
    "ax.set_xticklabels(labels)\n",
    "ax.set_ylabel('Top-1 accuracy (%)')\n",
    "bot = int(math.floor(min([min(data1), min(data2), min(data3), data4]) / 5) * 5)\n",
    "top = int(math.ceil( max([max(data1), max(data2), max(data3), data4]) / 5) * 5)\n",
    "print(bot, top)\n",
    "ax.set_ylim(bot, top+5)\n",
    "ax.set_yticks([10, 35, 60])\n",
    "ax.set_yticklabels([\" 10\", \" 35\", \" 60\"])\n",
    "\n",
    "fig.tight_layout()\n",
    "plt.show()\n",
    "fig.savefig(\"alexnet_imagenet_acc.pdf\", bbox_inches='tight', dpi=my_dpi)"
   ]
  },
  {
   "cell_type": "code",
   "execution_count": null,
   "metadata": {},
   "outputs": [],
   "source": []
  }
 ],
 "metadata": {
  "kernelspec": {
   "display_name": "Python 3",
   "language": "python",
   "name": "python3"
  },
  "language_info": {
   "codemirror_mode": {
    "name": "ipython",
    "version": 3
   },
   "file_extension": ".py",
   "mimetype": "text/x-python",
   "name": "python",
   "nbconvert_exporter": "python",
   "pygments_lexer": "ipython3",
   "version": "3.8.5"
  }
 },
 "nbformat": 4,
 "nbformat_minor": 4
}
