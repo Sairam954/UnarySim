{
 "cells": [
  {
   "cell_type": "code",
   "execution_count": 1,
   "metadata": {},
   "outputs": [],
   "source": [
    "def prune(input_list):\n",
    "    l = []\n",
    "\n",
    "    for e in input_list:\n",
    "        e = e.strip() # remove the leading and trailing characters, here space\n",
    "        if e != '' and e != ' ':\n",
    "            l.append(e)\n",
    "\n",
    "    return l"
   ]
  },
  {
   "cell_type": "code",
   "execution_count": 2,
   "metadata": {},
   "outputs": [],
   "source": [
    "def result_plot(file=None):\n",
    "    acc_list = []\n",
    "    csv_file = open(file, 'r')\n",
    "    first = True\n",
    "    for row in csv_file:\n",
    "        if first is True:\n",
    "            first = False\n",
    "            continue\n",
    "            \n",
    "        elems = row.strip().split(',')\n",
    "        elems = prune(elems)\n",
    "        acc_list.append(float(elems[1]))\n",
    "    \n",
    "    return acc_list"
   ]
  },
  {
   "cell_type": "code",
   "execution_count": 3,
   "metadata": {},
   "outputs": [
    {
     "name": "stdout",
     "output_type": "stream",
     "text": [
      "[98.94, 98.98, 99.03, 99.07, 99.06, 99.07, 99.04, 99.04, 99.17]\n"
     ]
    }
   ],
   "source": [
    "convnet_mnist_acc = result_plot(file=\"../convnet_mnist/convnet_mnist_result.csv\")\n",
    "print(convnet_mnist_acc)"
   ]
  },
  {
   "cell_type": "code",
   "execution_count": 4,
   "metadata": {},
   "outputs": [
    {
     "name": "stdout",
     "output_type": "stream",
     "text": [
      "[19.5, 77.44, 92.31, 94.39, 94.6, 94.7, 94.77, 94.75, 95.38]\n"
     ]
    }
   ],
   "source": [
    "resnet18_cifar10_acc = result_plot(file=\"../resnet18_cifar10/resnet18_cifar10_result.csv\")\n",
    "print(resnet18_cifar10_acc)"
   ]
  },
  {
   "cell_type": "code",
   "execution_count": 5,
   "metadata": {},
   "outputs": [
    {
     "name": "stdout",
     "output_type": "stream",
     "text": [
      "[0.13, 0.24, 2.474, 21.672, 42.438, 50.402, 53.452, 54.286, 56.55]\n"
     ]
    }
   ],
   "source": [
    "alexnet_imagenet_acc = result_plot(file=\"../alexnet_imagenet/alexnet_imagenet_result.csv\")\n",
    "print(alexnet_imagenet_acc)"
   ]
  },
  {
   "cell_type": "code",
   "execution_count": 6,
   "metadata": {},
   "outputs": [],
   "source": [
    "import matplotlib\n",
    "import matplotlib.pyplot as plt\n",
    "import numpy as np\n",
    "import math\n",
    "\n",
    "font = {'family':'Times New Roman', 'size': 6}\n",
    "\n",
    "matplotlib.rc('font', **font)"
   ]
  },
  {
   "cell_type": "code",
   "execution_count": 7,
   "metadata": {},
   "outputs": [],
   "source": [
    "labels = ['32', '64', '128', '256', '512', '1024', '2048', '4096', 'Baseline']"
   ]
  },
  {
   "cell_type": "code",
   "execution_count": 8,
   "metadata": {},
   "outputs": [],
   "source": [
    "def autolabel(rects):\n",
    "    \"\"\"Attach a text label above each bar in *rects*, displaying its height.\"\"\"\n",
    "    for rect in rects:\n",
    "        height = rect.get_height()\n",
    "        ax.annotate('{}'.format(height),\n",
    "                    xy=(rect.get_x() + rect.get_width() / 2, height),\n",
    "                    xytext=(0, 3),  # 3 points vertical offset\n",
    "                    textcoords=\"offset points\",\n",
    "                    ha='center', va='bottom')"
   ]
  },
  {
   "cell_type": "code",
   "execution_count": 9,
   "metadata": {},
   "outputs": [],
   "source": [
    "my_dpi = 300\n",
    "fig_h = 1.1\n",
    "fig_w = 3.311"
   ]
  },
  {
   "cell_type": "code",
   "execution_count": 10,
   "metadata": {},
   "outputs": [
    {
     "name": "stdout",
     "output_type": "stream",
     "text": [
      "95 100\n"
     ]
    },
    {
     "data": {
      "image/png": "[encoded data removed]",
      "text/plain": [
       "<Figure size 238.392x79.2 with 1 Axes>"
      ]
     },
     "metadata": {
      "needs_background": "light"
     },
     "output_type": "display_data"
    }
   ],
   "source": [
    "x = np.arange(len(labels))  # the label locations\n",
    "width = 0.35  # the width of the bars\n",
    "data = convnet_mnist_acc\n",
    "\n",
    "fig, ax = plt.subplots(figsize=(fig_w, fig_h))\n",
    "rects1 = ax.bar(x, data, width)\n",
    "\n",
    "ax.set_xticks(x)\n",
    "ax.set_xticklabels(labels)\n",
    "ax.set_ylabel('Top-1 accuracy (%)')\n",
    "bot = int(math.floor(min(data) / 5) * 5)\n",
    "top = int(math.ceil( max(data) / 5) * 5)\n",
    "print(bot, top)\n",
    "ax.set_ylim(bot, top+0.2)\n",
    "ax.set_yticks([96, 98, 100])\n",
    "ax.set_yticklabels([96, 98, 100])\n",
    "\n",
    "autolabel(rects1)\n",
    "\n",
    "fig.tight_layout()\n",
    "plt.show()\n",
    "fig.savefig(\"convnet_mnist_acc.pdf\", bbox_inches='tight', dpi=my_dpi)"
   ]
  },
  {
   "cell_type": "code",
   "execution_count": 11,
   "metadata": {},
   "outputs": [
    {
     "name": "stdout",
     "output_type": "stream",
     "text": [
      "15 100\n"
     ]
    },
    {
     "data": {
      "image/png": "[encoded data removed]",
      "text/plain": [
       "<Figure size 238.392x79.2 with 1 Axes>"
      ]
     },
     "metadata": {
      "needs_background": "light"
     },
     "output_type": "display_data"
    }
   ],
   "source": [
    "x = np.arange(len(labels))  # the label locations\n",
    "width = 0.35  # the width of the bars\n",
    "data = resnet18_cifar10_acc\n",
    "\n",
    "fig, ax = plt.subplots(figsize=(fig_w, fig_h))\n",
    "rects1 = ax.bar(x, data, width)\n",
    "\n",
    "ax.set_xticks(x)\n",
    "ax.set_xticklabels(labels)\n",
    "ax.set_ylabel('Top-1 accuracy (%)')\n",
    "bot = int(math.floor(min(data) / 5) * 5)\n",
    "top = int(math.ceil( max(data) / 5) * 5)\n",
    "print(bot, top)\n",
    "ax.set_ylim(bot, top+15)\n",
    "ax.set_yticks([20, 40, 60, 80, 100])\n",
    "ax.set_yticklabels([20, 40, 60, 80, 100])\n",
    "\n",
    "autolabel(rects1)\n",
    "\n",
    "fig.tight_layout()\n",
    "plt.show()\n",
    "fig.savefig(\"resnet18_cifar10_acc.pdf\", bbox_inches='tight', dpi=my_dpi)"
   ]
  },
  {
   "cell_type": "code",
   "execution_count": 12,
   "metadata": {},
   "outputs": [
    {
     "name": "stdout",
     "output_type": "stream",
     "text": [
      "0 60\n"
     ]
    },
    {
     "data": {
      "image/png": "[encoded data removed]",
      "text/plain": [
       "<Figure size 238.392x79.2 with 1 Axes>"
      ]
     },
     "metadata": {
      "needs_background": "light"
     },
     "output_type": "display_data"
    }
   ],
   "source": [
    "x = np.arange(len(labels))  # the label locations\n",
    "width = 0.35  # the width of the bars\n",
    "data = alexnet_imagenet_acc\n",
    "\n",
    "fig, ax = plt.subplots(figsize=(fig_w, fig_h))\n",
    "rects1 = ax.bar(x, data, width)\n",
    "\n",
    "ax.set_xticks(x)\n",
    "ax.set_xticklabels(labels)\n",
    "ax.set_ylabel('Top-1 accuracy (%)')\n",
    "bot = int(math.floor(min(data) / 5) * 5)\n",
    "top = int(math.ceil( max(data) / 5) * 5)\n",
    "print(bot, top)\n",
    "ax.set_ylim(bot, top+11)\n",
    "ax.set_yticks([20, 40, 60])\n",
    "ax.set_yticklabels([20, 40, 60])\n",
    "autolabel(rects1)\n",
    "\n",
    "fig.tight_layout()\n",
    "plt.show()\n",
    "fig.savefig(\"alexnet_imagenet_acc.pdf\", bbox_inches='tight', dpi=my_dpi)"
   ]
  }
 ],
 "metadata": {
  "kernelspec": {
   "display_name": "Python 3",
   "language": "python",
   "name": "python3"
  },
  "language_info": {
   "codemirror_mode": {
    "name": "ipython",
    "version": 3
   },
   "file_extension": ".py",
   "mimetype": "text/x-python",
   "name": "python",
   "nbconvert_exporter": "python",
   "pygments_lexer": "ipython3",
   "version": "3.8.5"
  }
 },
 "nbformat": 4,
 "nbformat_minor": 4
}
