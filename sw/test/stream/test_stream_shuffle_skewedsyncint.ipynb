{
 "cells": [
  {
   "cell_type": "code",
   "execution_count": 1,
   "metadata": {},
   "outputs": [],
   "source": [
    "%load_ext autoreload\n",
    "%autoreload 2"
   ]
  },
  {
   "cell_type": "code",
   "execution_count": 2,
   "metadata": {},
   "outputs": [],
   "source": [
    "import torch\n",
    "import UnarySim\n",
    "from UnarySim.sw.stream.shuffle_int import SkewedSyncInt"
   ]
  },
  {
   "cell_type": "code",
   "execution_count": 3,
   "metadata": {},
   "outputs": [],
   "source": [
    "device = torch.device(\"cuda:0\" if torch.cuda.is_available() else \"cpu\")"
   ]
  },
  {
   "cell_type": "code",
   "execution_count": 4,
   "metadata": {},
   "outputs": [],
   "source": [
    "ss = SkewedSyncInt(depth=3).to(device)"
   ]
  },
  {
   "cell_type": "code",
   "execution_count": 5,
   "metadata": {},
   "outputs": [
    {
     "name": "stdout",
     "output_type": "stream",
     "text": [
      "tensor([[0., 0.]], device='cuda:0')\n",
      "tensor([[1., 1.]], device='cuda:0')\n",
      "Parameter containing:\n",
      "tensor([[0., 0.]], device='cuda:0')\n"
     ]
    }
   ],
   "source": [
    "a = torch.tensor([[0, 0]]).type(torch.float).to(device)\n",
    "b = torch.tensor([[1, 1]]).type(torch.float).to(device)\n",
    "out_a, out_b = ss(a,b)\n",
    "print(out_a)\n",
    "print(out_b)\n",
    "print(ss.cnt)"
   ]
  },
  {
   "cell_type": "code",
   "execution_count": 6,
   "metadata": {},
   "outputs": [
    {
     "name": "stdout",
     "output_type": "stream",
     "text": [
      "tensor([[0., 0.]], device='cuda:0')\n",
      "tensor([[0., 0.]], device='cuda:0')\n",
      "Parameter containing:\n",
      "tensor([[4., 4.]], device='cuda:0')\n"
     ]
    }
   ],
   "source": [
    "a = torch.tensor([[4, 4]]).type(torch.float).to(device)\n",
    "b = torch.tensor([[0, 0]]).type(torch.float).to(device)\n",
    "out_a, out_b = ss(a,b)\n",
    "print(out_a)\n",
    "print(out_b)\n",
    "print(ss.cnt)"
   ]
  },
  {
   "cell_type": "code",
   "execution_count": 7,
   "metadata": {},
   "outputs": [
    {
     "name": "stdout",
     "output_type": "stream",
     "text": [
      "tensor([[7., 7.]], device='cuda:0')\n",
      "tensor([[1., 1.]], device='cuda:0')\n",
      "Parameter containing:\n",
      "tensor([[1., 1.]], device='cuda:0')\n"
     ]
    }
   ],
   "source": [
    "a = torch.tensor([[4, 4]]).type(torch.float).to(device)\n",
    "b = torch.tensor([[1, 1]]).type(torch.float).to(device)\n",
    "out_a, out_b = ss(a,b)\n",
    "print(out_a)\n",
    "print(out_b)\n",
    "print(ss.cnt)"
   ]
  },
  {
   "cell_type": "code",
   "execution_count": 8,
   "metadata": {},
   "outputs": [
    {
     "name": "stdout",
     "output_type": "stream",
     "text": [
      "tensor([[0., 0.]], device='cuda:0')\n",
      "tensor([[0., 0.]], device='cuda:0')\n",
      "Parameter containing:\n",
      "tensor([[1., 1.]], device='cuda:0')\n"
     ]
    }
   ],
   "source": [
    "a = torch.tensor([[0, 0]]).type(torch.float).to(device)\n",
    "b = torch.tensor([[0, 0]]).type(torch.float).to(device)\n",
    "out_a, out_b = ss(a,b)\n",
    "print(out_a)\n",
    "print(out_b)\n",
    "print(ss.cnt)"
   ]
  },
  {
   "cell_type": "code",
   "execution_count": 9,
   "metadata": {},
   "outputs": [
    {
     "name": "stdout",
     "output_type": "stream",
     "text": [
      "tensor([[5., 5.]], device='cuda:0')\n",
      "tensor([[1., 1.]], device='cuda:0')\n",
      "Parameter containing:\n",
      "tensor([[0., 0.]], device='cuda:0')\n"
     ]
    }
   ],
   "source": [
    "a = torch.tensor([[4, 4]]).type(torch.float).to(device)\n",
    "b = torch.tensor([[1, 1]]).type(torch.float).to(device)\n",
    "out_a, out_b = ss(a,b)\n",
    "print(out_a)\n",
    "print(out_b)\n",
    "print(ss.cnt)"
   ]
  },
  {
   "cell_type": "code",
   "execution_count": 10,
   "metadata": {},
   "outputs": [
    {
     "name": "stdout",
     "output_type": "stream",
     "text": [
      "tensor([[0., 0.]], device='cuda:0')\n",
      "tensor([[0., 0.]], device='cuda:0')\n",
      "Parameter containing:\n",
      "tensor([[4., 4.]], device='cuda:0')\n"
     ]
    }
   ],
   "source": [
    "a = torch.tensor([[4, 4]]).type(torch.float).to(device)\n",
    "b = torch.tensor([[0, 0]]).type(torch.float).to(device)\n",
    "out_a, out_b = ss(a,b)\n",
    "print(out_a)\n",
    "print(out_b)\n",
    "print(ss.cnt)"
   ]
  },
  {
   "cell_type": "code",
   "execution_count": 11,
   "metadata": {},
   "outputs": [
    {
     "name": "stdout",
     "output_type": "stream",
     "text": [
      "tensor([[0., 0.]], device='cuda:0')\n",
      "tensor([[0., 0.]], device='cuda:0')\n",
      "Parameter containing:\n",
      "tensor([[7., 7.]], device='cuda:0')\n"
     ]
    }
   ],
   "source": [
    "a = torch.tensor([[4, 4]]).type(torch.float).to(device)\n",
    "b = torch.tensor([[0, 0]]).type(torch.float).to(device)\n",
    "out_a, out_b = ss(a,b)\n",
    "print(out_a)\n",
    "print(out_b)\n",
    "print(ss.cnt)"
   ]
  },
  {
   "cell_type": "code",
   "execution_count": 12,
   "metadata": {},
   "outputs": [
    {
     "name": "stdout",
     "output_type": "stream",
     "text": [
      "tensor([[0., 0.]], device='cuda:0')\n",
      "tensor([[0., 0.]], device='cuda:0')\n",
      "Parameter containing:\n",
      "tensor([[7., 7.]], device='cuda:0')\n"
     ]
    }
   ],
   "source": [
    "a = torch.tensor([[4, 4]]).type(torch.float).to(device)\n",
    "b = torch.tensor([[0, 0]]).type(torch.float).to(device)\n",
    "out_a, out_b = ss(a,b)\n",
    "print(out_a)\n",
    "print(out_b)\n",
    "print(ss.cnt)"
   ]
  },
  {
   "cell_type": "code",
   "execution_count": 13,
   "metadata": {},
   "outputs": [
    {
     "name": "stdout",
     "output_type": "stream",
     "text": [
      "tensor([[0., 0.]], device='cuda:0')\n",
      "tensor([[0., 0.]], device='cuda:0')\n",
      "Parameter containing:\n",
      "tensor([[7., 7.]], device='cuda:0')\n"
     ]
    }
   ],
   "source": [
    "a = torch.tensor([[2, 2]]).type(torch.float).to(device)\n",
    "b = torch.tensor([[0, 0]]).type(torch.float).to(device)\n",
    "out_a, out_b = ss(a,b)\n",
    "print(out_a)\n",
    "print(out_b)\n",
    "print(ss.cnt)"
   ]
  }
 ],
 "metadata": {
  "kernelspec": {
   "display_name": "Python 3",
   "language": "python",
   "name": "python3"
  },
  "language_info": {
   "codemirror_mode": {
    "name": "ipython",
    "version": 3
   },
   "file_extension": ".py",
   "mimetype": "text/x-python",
   "name": "python",
   "nbconvert_exporter": "python",
   "pygments_lexer": "ipython3",
   "version": "3.8.5"
  }
 },
 "nbformat": 4,
 "nbformat_minor": 4
}
