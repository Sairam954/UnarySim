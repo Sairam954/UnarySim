{
 "cells": [
  {
   "cell_type": "code",
   "execution_count": 1,
   "metadata": {},
   "outputs": [],
   "source": [
    "%load_ext autoreload\n",
    "%autoreload 2"
   ]
  },
  {
   "cell_type": "code",
   "execution_count": 2,
   "metadata": {},
   "outputs": [],
   "source": [
    "import torch\n",
    "import UnarySim\n",
    "from UnarySim.sw.stream.gen import RNGMulti\n",
    "\n",
    "import logging\n",
    "log = logging.getLogger(__name__)\n",
    "# log.error(\"asdad{}\".format(\"asda\"))"
   ]
  },
  {
   "cell_type": "code",
   "execution_count": 3,
   "metadata": {},
   "outputs": [
    {
     "name": "stdout",
     "output_type": "stream",
     "text": [
      "Parameter containing:\n",
      "tensor([[ 8., 12.,  4.,  6., 14., 10.,  2.,  3., 11., 15.,  7.,  5., 13.,  9.,\n",
      "          1.,  1.],\n",
      "        [ 8.,  4., 12.,  6., 14.,  2., 10.,  5., 13.,  1.,  9.,  3., 11.,  7.,\n",
      "         15.,  7.]], device='cuda:0')\n",
      "Parameter containing:\n",
      "tensor([[ 8., 12.,  4.,  6., 14., 10.,  2.,  3., 11., 15.,  7.,  5., 13.,  9.,\n",
      "          1.,  1.],\n",
      "        [ 8.,  4., 12.,  6., 14.,  2., 10.,  5., 13.,  1.,  9.,  3., 11.,  7.,\n",
      "         15.,  7.]])\n"
     ]
    }
   ],
   "source": [
    "rng = RNGMulti(4, 2, \"Sobol\", True)\n",
    "print(rng.cuda()())\n",
    "print(rng.cpu()())"
   ]
  },
  {
   "cell_type": "code",
   "execution_count": 4,
   "metadata": {},
   "outputs": [
    {
     "name": "stdout",
     "output_type": "stream",
     "text": [
      "Parameter containing:\n",
      "tensor([[ 9.,  4.,  2.,  1.,  8., 12., 14., 15.,  7., 11.,  5., 10., 13.,  6.,\n",
      "          3.,  9.],\n",
      "        [ 8., 12., 14., 15.,  7., 11.,  5., 10., 13.,  6.,  3.,  9.,  4.,  2.,\n",
      "          1.,  8.]], device='cuda:0')\n",
      "Parameter containing:\n",
      "tensor([[ 9.,  4.,  2.,  1.,  8., 12., 14., 15.,  7., 11.,  5., 10., 13.,  6.,\n",
      "          3.,  9.],\n",
      "        [ 8., 12., 14., 15.,  7., 11.,  5., 10., 13.,  6.,  3.,  9.,  4.,  2.,\n",
      "          1.,  8.]])\n"
     ]
    }
   ],
   "source": [
    "rng = RNGMulti(4, 2, \"LFSR\", True)\n",
    "print(rng.cuda()())\n",
    "print(rng.cpu()())"
   ]
  },
  {
   "cell_type": "code",
   "execution_count": 5,
   "metadata": {},
   "outputs": [
    {
     "name": "stdout",
     "output_type": "stream",
     "text": [
      "Parameter containing:\n",
      "tensor([[ 6.,  4., 15., 14., 13.,  3., 10.,  7., 11.,  2.,  8., 12.,  5.,  0.,\n",
      "          9.,  1.],\n",
      "        [15.,  7., 10.,  8., 14.,  2.,  6.,  1.,  9., 13., 11.,  0.,  4.,  3.,\n",
      "          5., 12.]], device='cuda:0')\n",
      "Parameter containing:\n",
      "tensor([[ 6.,  4., 15., 14., 13.,  3., 10.,  7., 11.,  2.,  8., 12.,  5.,  0.,\n",
      "          9.,  1.],\n",
      "        [15.,  7., 10.,  8., 14.,  2.,  6.,  1.,  9., 13., 11.,  0.,  4.,  3.,\n",
      "          5., 12.]])\n"
     ]
    }
   ],
   "source": [
    "rng = RNGMulti(4, 2, \"SYS\", True)\n",
    "print(rng.cuda()())\n",
    "print(rng.cpu()())"
   ]
  },
  {
   "cell_type": "code",
   "execution_count": null,
   "metadata": {},
   "outputs": [],
   "source": []
  }
 ],
 "metadata": {
  "kernelspec": {
   "display_name": "Python 3",
   "language": "python",
   "name": "python3"
  },
  "language_info": {
   "codemirror_mode": {
    "name": "ipython",
    "version": 3
   },
   "file_extension": ".py",
   "mimetype": "text/x-python",
   "name": "python",
   "nbconvert_exporter": "python",
   "pygments_lexer": "ipython3",
   "version": "3.8.5"
  }
 },
 "nbformat": 4,
 "nbformat_minor": 4
}
