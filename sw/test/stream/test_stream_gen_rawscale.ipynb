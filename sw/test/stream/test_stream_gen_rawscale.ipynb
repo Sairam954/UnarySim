{
 "cells": [
  {
   "cell_type": "code",
   "execution_count": null,
   "metadata": {},
   "outputs": [],
   "source": [
    "%load_ext autoreload\n",
    "%autoreload 2"
   ]
  },
  {
   "cell_type": "code",
   "execution_count": 2,
   "metadata": {},
   "outputs": [],
   "source": [
    "import torch\n",
    "from UnarySim.sw.stream.gen import RawScale"
   ]
  },
  {
   "cell_type": "code",
   "execution_count": 3,
   "metadata": {},
   "outputs": [
    {
     "name": "stdout",
     "output_type": "stream",
     "text": [
      "tensor([[ 3.4595, -0.4636,  0.8816],\n",
      "        [ 0.5827,  2.2747,  1.1333]], device='cuda:0')\n",
      "RawScale()\n",
      "Parameter containing:\n",
      "tensor([[1.0000, 0.0000, 0.3411],\n",
      "        [0.2638, 0.7013, 0.4062]], device='cuda:0')\n"
     ]
    }
   ],
   "source": [
    "input = torch.randn([2, 3]).cuda()\n",
    "print(input)\n",
    "srcbin = RawScale(input, mode=\"unipolar\", percentile=99).cuda()\n",
    "print(srcbin)\n",
    "print(srcbin())\n"
   ]
  },
  {
   "cell_type": "code",
   "execution_count": 4,
   "metadata": {},
   "outputs": [
    {
     "name": "stdout",
     "output_type": "stream",
     "text": [
      "Parameter containing:\n",
      "tensor([[ 1.0000, -1.0000, -0.3142],\n",
      "        [-0.4666,  0.3960, -0.1859]], device='cuda:0')\n"
     ]
    }
   ],
   "source": [
    "srcbin2 = RawScale(input, mode=\"bipolar\")\n",
    "print(srcbin2())"
   ]
  },
  {
   "cell_type": "code",
   "execution_count": null,
   "metadata": {},
   "outputs": [],
   "source": []
  }
 ],
 "metadata": {
  "kernelspec": {
   "display_name": "Python 3",
   "language": "python",
   "name": "python3"
  },
  "language_info": {
   "codemirror_mode": {
    "name": "ipython",
    "version": 3
   },
   "file_extension": ".py",
   "mimetype": "text/x-python",
   "name": "python",
   "nbconvert_exporter": "python",
   "pygments_lexer": "ipython3",
   "version": "3.8.5"
  }
 },
 "nbformat": 4,
 "nbformat_minor": 4
}
