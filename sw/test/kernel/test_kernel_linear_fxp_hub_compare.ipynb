{
 "cells": [
  {
   "cell_type": "code",
   "execution_count": 1,
   "metadata": {},
   "outputs": [],
   "source": [
    "%load_ext autoreload\n",
    "%autoreload 2"
   ]
  },
  {
   "cell_type": "code",
   "execution_count": 2,
   "metadata": {},
   "outputs": [],
   "source": [
    "import torch\n",
    "from UnarySim.sw.kernel.linear import *\n",
    "import matplotlib.pyplot as plt\n",
    "import time\n",
    "import math"
   ]
  },
  {
   "cell_type": "code",
   "execution_count": 3,
   "metadata": {},
   "outputs": [],
   "source": [
    "device = torch.device(\"cuda:0\" if torch.cuda.is_available() else \"cpu\")"
   ]
  },
  {
   "cell_type": "code",
   "execution_count": 4,
   "metadata": {},
   "outputs": [],
   "source": [
    "def test(rounding = \"round\"):\n",
    "    in_feature = 1024\n",
    "    out_feature = 1024\n",
    "    bias = True\n",
    "\n",
    "    input = (torch.rand(256, in_feature) - 0.5).to(device)\n",
    "\n",
    "    fc = torch.nn.Linear(in_feature, out_feature, bias=bias).to(device)\n",
    "    fc_o = fc(input)\n",
    "    \n",
    "    ufc_err_min_list = []\n",
    "    ufc_err_max_list = []\n",
    "    ufc_err_mean_list = []\n",
    "    ufc_err_std_list = []\n",
    "\n",
    "    ffc_err_min_list = []\n",
    "    ffc_err_max_list = []\n",
    "    ffc_err_mean_list = []\n",
    "    ffc_err_std_list = []\n",
    "    \n",
    "    x_label = []\n",
    "    \n",
    "    for bitwidth in range(6, 13): \n",
    "        cycle = 2**(bitwidth-1)\n",
    "\n",
    "        ufc = HUBLinear(in_feature, out_feature, bias=bias, binary_weight=fc.weight.data, binary_bias=fc.bias, cycle=cycle, rounding=rounding).to(device)\n",
    "        ufc_o = ufc(input)\n",
    "\n",
    "        ffc = FxpLinear(in_feature, out_feature, bias=bias, binary_weight=fc.weight.data, binary_bias=fc.bias, bitwidth=bitwidth, rounding=rounding).to(device)\n",
    "        ffc_o = ffc(input)\n",
    "\n",
    "        ufc_err = (ufc_o - fc_o)\n",
    "        ffc_err = (ffc_o - fc_o)\n",
    "        \n",
    "        ufc_err_min_list.append(ufc_err.min().item())\n",
    "        ufc_err_max_list.append(ufc_err.max().item())\n",
    "        ufc_err_mean_list.append(ufc_err.mean().item())\n",
    "        ufc_err_std_list.append(ufc_err.std().item())\n",
    "        \n",
    "        ffc_err_min_list.append(ffc_err.min().item())\n",
    "        ffc_err_max_list.append(ffc_err.max().item())\n",
    "        ffc_err_mean_list.append(ffc_err.mean().item())\n",
    "        ffc_err_std_list.append(ffc_err.std().item())\n",
    "        \n",
    "        x_label.append(2**(bitwidth-1))\n",
    "        \n",
    "    return ufc_err_min_list, ufc_err_max_list, ufc_err_mean_list, ufc_err_std_list, ffc_err_min_list, ffc_err_max_list, ffc_err_mean_list, ffc_err_std_list, x_label\n"
   ]
  },
  {
   "cell_type": "code",
   "execution_count": 5,
   "metadata": {},
   "outputs": [
    {
     "name": "stdout",
     "output_type": "stream",
     "text": [
      "[-0.07491344213485718, -0.03827792406082153, -0.01913774013519287, -0.009229123592376709, -0.00495457649230957, -0.0026011765003204346, -0.0012622177600860596]\n",
      "[0.07377147674560547, 0.04067647457122803, 0.018600553274154663, 0.009750455617904663, 0.005476057529449463, 0.00254058837890625, 0.001405179500579834]\n",
      "[1.3032549759373069e-06, -9.223491360899061e-06, 6.193622994032921e-06, 2.3419047465722542e-06, 4.677667675423436e-08, -2.62053049482347e-07, 2.9708871807088144e-07]\n",
      "[0.016595084220170975, 0.00848046038299799, 0.004310774151235819, 0.002199579030275345, 0.0011196660343557596, 0.0005709397955797613, 0.00029454860487021506]\n",
      "[-0.01707351580262184, -0.008212536573410034, -0.004229694604873657, -0.0020357929170131683, -0.0010727643966674805, -0.0006305165588855743, -0.00022584199905395508]\n",
      "[0.017288774251937866, 0.008399397134780884, 0.0043724775314331055, 0.0022996068000793457, 0.0011163093149662018, 0.0006096288561820984, 0.00020578503608703613]\n",
      "[5.417616648628609e-06, -2.0486634184635477e-06, 1.0843463087439886e-06, 7.680210956095834e-08, -6.26988367002923e-07, 2.445160873776331e-08, 8.1513746863493e-08]\n",
      "[0.003771458752453327, 0.001861817087046802, 0.0009269565925933421, 0.00046522205229848623, 0.00023919013619888574, 0.00013038027100265026, 4.621349216904491e-05]\n",
      "[32, 64, 128, 256, 512, 1024, 2048]\n"
     ]
    }
   ],
   "source": [
    "rounding = \"round\"\n",
    "ufc_err_min_list, ufc_err_max_list, ufc_err_mean_list, ufc_err_std_list, ffc_err_min_list, ffc_err_max_list, ffc_err_mean_list, ffc_err_std_list, x_label = test(rounding)\n",
    "print(ufc_err_min_list)\n",
    "print(ufc_err_max_list)\n",
    "print(ufc_err_mean_list)\n",
    "print(ufc_err_std_list)\n",
    "\n",
    "print(ffc_err_min_list)\n",
    "print(ffc_err_max_list)\n",
    "print(ffc_err_mean_list)\n",
    "print(ffc_err_std_list)\n",
    "\n",
    "print(x_label)"
   ]
  },
  {
   "cell_type": "code",
   "execution_count": 6,
   "metadata": {},
   "outputs": [
    {
     "data": {
      "image/png": "[encoded data removed]",
      "text/plain": [
       "<Figure size 238.428x115.2 with 1 Axes>"
      ]
     },
     "metadata": {
      "needs_background": "light"
     },
     "output_type": "display_data"
    }
   ],
   "source": [
    "import matplotlib.pyplot as plt\n",
    "import matplotlib\n",
    "import numpy as np\n",
    "\n",
    "font = {'family':'Times New Roman', 'size': 6}\n",
    "\n",
    "matplotlib.rc('font', **font)\n",
    "\n",
    "my_dpi = 300\n",
    "fig_h = 1.6\n",
    "fig_w = 3.3115\n",
    "\n",
    "# construct some data like what you have:\n",
    "x = np.array([i for i in range(len(ufc_err_mean_list))])\n",
    "means1 = np.array(ufc_err_mean_list)\n",
    "stds1 = np.array(ufc_err_std_list)\n",
    "mins1 = np.array(ufc_err_min_list)\n",
    "maxs1 = np.array(ufc_err_max_list)\n",
    "means2 = np.array(ffc_err_mean_list)\n",
    "stds2 = np.array(ffc_err_std_list)\n",
    "mins2 = np.array(ffc_err_min_list)\n",
    "maxs2 = np.array(ffc_err_max_list)\n",
    "x_label = np.array(x_label)\n",
    "\n",
    "width = 0.35\n",
    "fig, ax = plt.subplots(figsize=(fig_w, fig_h))\n",
    "ax.bar(x-width/2, means1, width, yerr=stds1, align='center', alpha=1, capsize=3, color=\"#7A81FF\", label=\"uSystolic\")\n",
    "ax.bar(x+width/2, means2, width, yerr=stds2, align='center', alpha=1, capsize=3, color=\"#FF7F7F\", label=\"Fxp\")\n",
    "ax.set_xticks(x)\n",
    "ax.set_xticklabels(x_label)\n",
    "\n",
    "ax.set_yscale('symlog', linthresh=10**(-8))\n",
    "ax.set_ylim(-0.1, 0.99)\n",
    "ax.set_yticks([-10**(-1), -10**(-3), -10**(-5), -10**(-7), 0, 10**(-7), 10**(-5), 10**(-3), 10**(-1)])\n",
    "# ax.set_yticklabels([-10**(-2), -10**(-4), -10**(-6), -10**(-8), 0, 10**(-8), 10**(-6), 10**(-4), 10**(-2)])\n",
    "ax.set_yticklabels([\"-1e-1\", \"-1e-3\", \"-1e-5\", \"-1e-7\", \"0\", \"1e-7\", \"1e-5\", \"1e-3\", \"1e-1\"])\n",
    "ax.legend(loc=\"upper right\", ncol=2, frameon=False)\n",
    "\n",
    "fig.tight_layout()\n",
    "plt.show()\n",
    "fig.savefig(\"test_kernel_linear_fxp_hub_compare.pdf\", bbox_inches='tight', dpi=my_dpi)\n"
   ]
  },
  {
   "cell_type": "code",
   "execution_count": null,
   "metadata": {},
   "outputs": [],
   "source": []
  }
 ],
 "metadata": {
  "kernelspec": {
   "display_name": "Python 3",
   "language": "python",
   "name": "python3"
  },
  "language_info": {
   "codemirror_mode": {
    "name": "ipython",
    "version": 3
   },
   "file_extension": ".py",
   "mimetype": "text/x-python",
   "name": "python",
   "nbconvert_exporter": "python",
   "pygments_lexer": "ipython3",
   "version": "3.8.5"
  }
 },
 "nbformat": 4,
 "nbformat_minor": 4
}
