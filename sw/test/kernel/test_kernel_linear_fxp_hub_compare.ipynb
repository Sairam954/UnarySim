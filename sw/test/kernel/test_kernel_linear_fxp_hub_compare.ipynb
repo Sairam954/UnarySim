{
 "cells": [
  {
   "cell_type": "code",
   "execution_count": 1,
   "metadata": {},
   "outputs": [],
   "source": [
    "%load_ext autoreload\n",
    "%autoreload 2"
   ]
  },
  {
   "cell_type": "code",
   "execution_count": 2,
   "metadata": {},
   "outputs": [],
   "source": [
    "import torch\n",
    "from UnarySim.sw.kernel.linear import *\n",
    "import matplotlib.pyplot as plt\n",
    "import time\n",
    "import math"
   ]
  },
  {
   "cell_type": "code",
   "execution_count": 3,
   "metadata": {},
   "outputs": [],
   "source": [
    "device = torch.device(\"cuda:0\" if torch.cuda.is_available() else \"cpu\")"
   ]
  },
  {
   "cell_type": "code",
   "execution_count": 4,
   "metadata": {},
   "outputs": [],
   "source": [
    "def test(rounding = \"round\"):\n",
    "    in_feature = 1024\n",
    "    out_feature = 1024\n",
    "    bias = True\n",
    "\n",
    "    input = (torch.rand(256, in_feature) - 0.5).to(device)\n",
    "\n",
    "    fc = torch.nn.Linear(in_feature, out_feature, bias=bias).to(device)\n",
    "    fc_o = fc(input)\n",
    "    \n",
    "    ufc_err_min_list = []\n",
    "    ufc_err_max_list = []\n",
    "    ufc_err_mean_list = []\n",
    "    ufc_err_std_list = []\n",
    "    \n",
    "    ofc_err_min_list = []\n",
    "    ofc_err_max_list = []\n",
    "    ofc_err_mean_list = []\n",
    "    ofc_err_std_list = []\n",
    "    \n",
    "    ifc_err_min_list = []\n",
    "    ifc_err_max_list = []\n",
    "    ifc_err_mean_list = []\n",
    "    ifc_err_std_list = []\n",
    "    \n",
    "    x_label = []\n",
    "    \n",
    "    for bitwidth in range(6, 13): \n",
    "        cycle = 2**(bitwidth-1)\n",
    "\n",
    "        ufc = HUBLinear(in_feature, out_feature, bias=bias, binary_weight=fc.weight.data, binary_bias=fc.bias, cycle=cycle, rounding=rounding).to(device)\n",
    "        ufc_o = ufc(input)\n",
    "        \n",
    "        ofc = FxpLinear(in_feature, out_feature, bias=bias, binary_weight=fc.weight.data, binary_bias=fc.bias, bitwidth=bitwidth, keep_res=\"output\", more_res=\"input\", rounding=rounding).to(device)\n",
    "        ofc_o = ofc(input)\n",
    "\n",
    "        ifc = FxpLinear(in_feature, out_feature, bias=bias, binary_weight=fc.weight.data, binary_bias=fc.bias, bitwidth=bitwidth, keep_res=\"input\",  more_res=\"input\", rounding=rounding).to(device)\n",
    "        ifc_o = ifc(input)\n",
    "        \n",
    "        ufc_err = (ufc_o - fc_o)\n",
    "        ofc_err = (ofc_o - fc_o)\n",
    "        ifc_err = (ifc_o - fc_o)\n",
    "        \n",
    "        ufc_err_min_list.append(ufc_err.min().item())\n",
    "        ufc_err_max_list.append(ufc_err.max().item())\n",
    "        ufc_err_mean_list.append(ufc_err.abs().mean().item())\n",
    "        ufc_err_std_list.append(ufc_err.std().item())\n",
    "        \n",
    "        ofc_err_min_list.append(ofc_err.min().item())\n",
    "        ofc_err_max_list.append(ofc_err.max().item())\n",
    "        ofc_err_mean_list.append(ofc_err.abs().mean().item())\n",
    "        ofc_err_std_list.append(ofc_err.std().item())\n",
    "        \n",
    "        ifc_err_min_list.append(ifc_err.min().item())\n",
    "        ifc_err_max_list.append(ifc_err.max().item())\n",
    "        ifc_err_mean_list.append(ifc_err.abs().mean().item())\n",
    "        ifc_err_std_list.append(ifc_err.std().item())\n",
    "        \n",
    "        x_label.append(2**(bitwidth-1))\n",
    "    return ufc_err_min_list, ufc_err_max_list, ufc_err_mean_list, ufc_err_std_list, ofc_err_min_list, ofc_err_max_list, ofc_err_mean_list, ofc_err_std_list, ifc_err_min_list, ifc_err_max_list, ifc_err_mean_list, ifc_err_std_list, x_label\n"
   ]
  },
  {
   "cell_type": "code",
   "execution_count": 5,
   "metadata": {},
   "outputs": [
    {
     "name": "stdout",
     "output_type": "stream",
     "text": [
      "[0.013263525441288948, 0.006781160831451416, 0.0034504770301282406, 0.0017619167920202017, 0.0008952602511271834, 0.0004570038872770965, 0.00023587299801874906]\n",
      "[0.016625920310616493, 0.008492778986692429, 0.004326240625232458, 0.0022080971393734217, 0.0011224643094465137, 0.000572834222111851, 0.00029536348301917315]\n",
      "\n",
      "[0.027769744396209717, 0.021553924307227135, 0.012821121141314507, 0.010038068518042564, 0.006150645203888416, 0.004842484835535288, 0.00300179747864604]\n",
      "[0.03457939252257347, 0.026988286525011063, 0.01606983318924904, 0.0125908013433218, 0.007707641925662756, 0.006064299028366804, 0.003761305008083582]\n",
      "\n",
      "[0.00300179747864604, 0.0014876647619530559, 0.0007412200793623924, 0.00037159956991672516, 0.00019055283337365836, 0.00010419799946248531, 3.685482806758955e-05]\n",
      "[0.003761305008083582, 0.001865885453298688, 0.0009289734298363328, 0.00046560136252082884, 0.00023890711599960923, 0.0001305612677242607, 4.6202530938899145e-05]\n",
      "\n",
      "[32, 64, 128, 256, 512, 1024, 2048]\n"
     ]
    }
   ],
   "source": [
    "rounding = \"round\"\n",
    "ufc_err_min_list, ufc_err_max_list, ufc_err_mean_list, ufc_err_std_list, ofc_err_min_list, ofc_err_max_list, ofc_err_mean_list, ofc_err_std_list, ifc_err_min_list, ifc_err_max_list, ifc_err_mean_list, ifc_err_std_list, x_label = test(rounding)\n",
    "# print(ufc_err_min_list)\n",
    "# print(ufc_err_max_list)\n",
    "print(ufc_err_mean_list)\n",
    "print(ufc_err_std_list)\n",
    "print()\n",
    "\n",
    "# print(ofc_err_min_list)\n",
    "# print(ofc_err_max_list)\n",
    "print(ofc_err_mean_list)\n",
    "print(ofc_err_std_list)\n",
    "print()\n",
    "\n",
    "# print(ifc_err_min_list)\n",
    "# print(ifc_err_max_list)\n",
    "print(ifc_err_mean_list)\n",
    "print(ifc_err_std_list)\n",
    "print()\n",
    "\n",
    "print(x_label)"
   ]
  },
  {
   "cell_type": "code",
   "execution_count": 6,
   "metadata": {},
   "outputs": [
    {
     "data": {
      "image/png": "[encoded data removed]",
      "text/plain": [
       "<Figure size 238.428x86.4 with 1 Axes>"
      ]
     },
     "metadata": {
      "needs_background": "light"
     },
     "output_type": "display_data"
    }
   ],
   "source": [
    "import matplotlib.pyplot as plt\n",
    "import matplotlib\n",
    "import numpy as np\n",
    "\n",
    "font = {'family':'Times New Roman', 'size': 6}\n",
    "\n",
    "matplotlib.rc('font', **font)\n",
    "\n",
    "my_dpi = 300\n",
    "fig_h = 1.2\n",
    "fig_w = 3.3115\n",
    "\n",
    "# construct some data like what you have:\n",
    "x = np.array([i for i in range(len(ufc_err_mean_list))])\n",
    "means1 = np.array(ufc_err_mean_list)\n",
    "stds1 = np.array(ufc_err_std_list)\n",
    "mins1 = np.array(ufc_err_min_list)\n",
    "maxs1 = np.array(ufc_err_max_list)\n",
    "\n",
    "means2 = np.array(ofc_err_mean_list)\n",
    "stds2 = np.array(ofc_err_std_list)\n",
    "mins2 = np.array(ofc_err_min_list)\n",
    "maxs2 = np.array(ofc_err_max_list)\n",
    "\n",
    "means3 = np.array(ifc_err_mean_list)\n",
    "stds3 = np.array(ifc_err_std_list)\n",
    "mins3 = np.array(ifc_err_min_list)\n",
    "maxs3 = np.array(ifc_err_max_list)\n",
    "\n",
    "x_label = ['32-6', '64-7', '128-8', '256-9', '512-10', '1024-11', '2048-12']\n",
    "\n",
    "width = 0.20\n",
    "fig, ax = plt.subplots(figsize=(fig_w, fig_h))\n",
    "\n",
    "# ax.bar(x-width, means1, width, yerr=stds1, align='center', alpha=1, capsize=3, color=\"#7A81FF\", label=\"uSystolic\")\n",
    "# ax.bar(x,       means2, width, yerr=stds2, align='center', alpha=1, capsize=3, color=\"#FF7F7F\", label=\"FXP-o\")\n",
    "# ax.bar(x+width, means3, width, yerr=stds3, align='center', alpha=1, capsize=3, color=\"#D783FF\", label=\"FXP-i\")\n",
    "\n",
    "\n",
    "# ax.errorbar(x-width, means1, yerr=stds1, capsize=3, color=\"#7A81FF\", label=\"uSystolic\", fmt=\"-o\", xuplims=True)\n",
    "# ax.errorbar(x,       means2, yerr=stds2, capsize=3, color=\"#FF7F7F\", label=\"FXP-o\", fmt=\"-x\", xuplims=True)\n",
    "# ax.errorbar(x+width, means3, yerr=stds3, capsize=3, color=\"#D783FF\", label=\"FXP-i\", fmt=\"-*\", xuplims=True)\n",
    "\n",
    "\n",
    "ax.plot(x, means1, \"-o\", label=\"uSystolic\", color=\"#7A81FF\", ms=4)\n",
    "ax.fill_between(x, means1-stds1, means1+stds1, alpha=0.3, color=\"#7A81FF\")\n",
    "\n",
    "ax.plot(x, means2, \"-s\", label=\"FXP-o-res\",     color=\"#FF7F7F\", ms=4)\n",
    "ax.fill_between(x, means2-stds2, means2+stds2, alpha=0.3, color=\"#FF7F7F\")\n",
    "\n",
    "ax.plot(x, means3, \"-^\", label=\"FXP-i-res\",     color=\"#D783FF\", ms=4)\n",
    "ax.fill_between(x, means3-stds3, means3+stds3, alpha=0.3, color=\"#D783FF\")\n",
    "\n",
    "ax.set_xticks(x)\n",
    "ax.set_xticklabels(x_label)\n",
    "ax.set_yscale('linear')\n",
    "# ax.set_ylim(0, 0.99)\n",
    "# ax.set_yticks([0, 10**(-7), 10**(-5), 10**(-3), 10**(-1)])\n",
    "# ax.set_yticklabels([\"0\", \"1e-7\", \"1e-5\", \"1e-3\", \"1e-1\"])\n",
    "ax.legend(loc=\"upper right\", ncol=3, frameon=False)\n",
    "\n",
    "fig.tight_layout()\n",
    "plt.show()\n",
    "fig.savefig(\"test_kernel_linear_fxp_hub_compare.pdf\", bbox_inches='tight', dpi=my_dpi)\n"
   ]
  },
  {
   "cell_type": "code",
   "execution_count": null,
   "metadata": {},
   "outputs": [],
   "source": []
  }
 ],
 "metadata": {
  "kernelspec": {
   "display_name": "Python 3",
   "language": "python",
   "name": "python3"
  },
  "language_info": {
   "codemirror_mode": {
    "name": "ipython",
    "version": 3
   },
   "file_extension": ".py",
   "mimetype": "text/x-python",
   "name": "python",
   "nbconvert_exporter": "python",
   "pygments_lexer": "ipython3",
   "version": "3.8.5"
  }
 },
 "nbformat": 4,
 "nbformat_minor": 4
}
