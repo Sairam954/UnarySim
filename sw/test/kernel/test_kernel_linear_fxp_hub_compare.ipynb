{
 "cells": [
  {
   "cell_type": "code",
   "execution_count": null,
   "metadata": {},
   "outputs": [],
   "source": [
    "%load_ext autoreload\n",
    "%autoreload 2"
   ]
  },
  {
   "cell_type": "code",
   "execution_count": 2,
   "metadata": {},
   "outputs": [],
   "source": [
    "import torch\n",
    "from UnarySim.sw.kernel.linear import *\n",
    "import matplotlib.pyplot as plt\n",
    "import time\n",
    "import math\n",
    "import numpy as np"
   ]
  },
  {
   "cell_type": "code",
   "execution_count": 3,
   "metadata": {},
   "outputs": [],
   "source": [
    "device = torch.device(\"cuda:0\" if torch.cuda.is_available() else \"cpu\")"
   ]
  },
  {
   "cell_type": "code",
   "execution_count": 4,
   "metadata": {},
   "outputs": [],
   "source": [
    "def test(rounding = \"round\", abs_err = True):\n",
    "    ufc_err_min_list = []\n",
    "    ufc_err_max_list = []\n",
    "    ufc_err_mean_list = []\n",
    "    ufc_err_std_list = []\n",
    "    \n",
    "    ofc_err_min_list = []\n",
    "    ofc_err_max_list = []\n",
    "    ofc_err_mean_list = []\n",
    "    ofc_err_std_list = []\n",
    "    \n",
    "    ifc_err_min_list = []\n",
    "    ifc_err_max_list = []\n",
    "    ifc_err_mean_list = []\n",
    "    ifc_err_std_list = []\n",
    "    \n",
    "    x_label = []\n",
    "    \n",
    "    for bitwidth in range(6, 13):\n",
    "        cycle = 2**(bitwidth-1)\n",
    "        \n",
    "        in_feature = 2\n",
    "        out_feature = 2**12\n",
    "        bias = False\n",
    "        \n",
    "        input = torch.cat(2*[(torch.arange(0, out_feature)/out_feature - 0.5).unsqueeze(1)], 1).to(device)\n",
    "        input[:, 1] = 0.\n",
    "\n",
    "        fc = torch.nn.Linear(in_feature, out_feature, bias=bias).to(device)\n",
    "        fc.weight.data = torch.cat(2*[(torch.arange(0, out_feature)/out_feature - 0.5).unsqueeze(1)], 1).to(device)\n",
    "        fc.weight.data[:, 1] = 0.\n",
    "        fc_o = fc(input)\n",
    "\n",
    "        ufc = HUBLinear(in_feature, out_feature, bias=bias, binary_weight=fc.weight.data, binary_bias=fc.bias, cycle=cycle, rounding=rounding).to(device)\n",
    "        ufc_o = ufc(input)\n",
    "        \n",
    "        ofc = FxpLinear(in_feature, out_feature, bias=bias, binary_weight=fc.weight.data, binary_bias=fc.bias, bitwidth=bitwidth, keep_res=\"output\", more_res=\"input\", rounding=rounding).to(device)\n",
    "        ofc_o = ofc(input)\n",
    "        \n",
    "        ifc = FxpLinear(in_feature, out_feature, bias=bias, binary_weight=fc.weight.data, binary_bias=fc.bias, bitwidth=bitwidth, keep_res=\"input\",  more_res=\"input\", rounding=rounding).to(device)\n",
    "        ifc_o = ifc(input)\n",
    "        \n",
    "        if abs_err is True:\n",
    "            ufc_err = (ufc_o - fc_o)\n",
    "            ofc_err = (ofc_o - fc_o)\n",
    "            ifc_err = (ifc_o - fc_o)\n",
    "        else:\n",
    "            ufc_err = (ufc_o - fc_o) / fc_o\n",
    "            ofc_err = (ofc_o - fc_o) / fc_o\n",
    "            ifc_err = (ifc_o - fc_o) / fc_o\n",
    "        \n",
    "        ufc_err_min_list.append(np.nanmin(ufc_err.cpu().detach().numpy()))\n",
    "        ufc_err_max_list.append(np.nanmax(ufc_err.cpu().detach().numpy()))\n",
    "        ufc_err_mean_list.append(np.nanmean(np.abs(ufc_err.cpu().detach().numpy())))\n",
    "        ufc_err_std_list.append(np.nanstd(ufc_err.cpu().detach().numpy()))\n",
    "        \n",
    "        ofc_err_min_list.append(np.nanmin(ofc_err.cpu().detach().numpy()))\n",
    "        ofc_err_max_list.append(np.nanmax(ofc_err.cpu().detach().numpy()))\n",
    "        ofc_err_mean_list.append(np.nanmean(np.abs(ofc_err.cpu().detach().numpy())))\n",
    "        ofc_err_std_list.append(np.nanstd(ofc_err.cpu().detach().numpy()))\n",
    "        \n",
    "        ifc_err_min_list.append(np.nanmin(ifc_err.cpu().detach().numpy()))\n",
    "        ifc_err_max_list.append(np.nanmax(ifc_err.cpu().detach().numpy()))\n",
    "        ifc_err_mean_list.append(np.nanmean(np.abs(ifc_err.cpu().detach().numpy())))\n",
    "        ifc_err_std_list.append(np.nanstd(ifc_err.cpu().detach().numpy()))\n",
    "        \n",
    "        x_label.append(2**(bitwidth-1))\n",
    "    return ufc_err_min_list, ufc_err_max_list, ufc_err_mean_list, ufc_err_std_list, ofc_err_min_list, ofc_err_max_list, ofc_err_mean_list, ofc_err_std_list, ifc_err_min_list, ifc_err_max_list, ifc_err_mean_list, ifc_err_std_list, x_label\n"
   ]
  },
  {
   "cell_type": "code",
   "execution_count": 5,
   "metadata": {},
   "outputs": [
    {
     "name": "stdout",
     "output_type": "stream",
     "text": [
      "[0.0069212895, 0.0035012946, 0.0017546908, 0.0008671605, 0.00041784628, 0.00019199908, 8.145226e-05]\n",
      "[0.008252516, 0.004191224, 0.0021110727, 0.001050008, 0.00051037845, 0.00023727161, 0.00010173569]\n",
      "\n",
      "[0.012769948, 0.009957188, 0.006087754, 0.004752559, 0.002968327, 0.0023195662, 0.0014654145]\n",
      "[0.017257549, 0.013471331, 0.008031704, 0.00629553, 0.0038512973, 0.0030308126, 0.0018835099]\n",
      "\n",
      "[0.0014654145, 0.00072838337, 0.00036380833, 0.00018311724, 9.413352e-05, 5.086398e-05, 5.343508e-09]\n",
      "[0.0018835099, 0.00093169947, 0.00046449967, 0.00023424467, 0.00012214974, 7.047733e-05, 7.1761765e-09]\n",
      "\n",
      "[32, 64, 128, 256, 512, 1024, 2048]\n"
     ]
    }
   ],
   "source": [
    "rounding = \"round\"\n",
    "abs_err = True\n",
    "ufc_err_min_list, ufc_err_max_list, ufc_err_mean_list, ufc_err_std_list, ofc_err_min_list, ofc_err_max_list, ofc_err_mean_list, ofc_err_std_list, ifc_err_min_list, ifc_err_max_list, ifc_err_mean_list, ifc_err_std_list, x_label = test(rounding, abs_err)\n",
    "print(ufc_err_mean_list)\n",
    "print(ufc_err_std_list)\n",
    "print()\n",
    "\n",
    "print(ofc_err_mean_list)\n",
    "print(ofc_err_std_list)\n",
    "print()\n",
    "\n",
    "print(ifc_err_mean_list)\n",
    "print(ifc_err_std_list)\n",
    "print()\n",
    "\n",
    "print(x_label)"
   ]
  },
  {
   "cell_type": "code",
   "execution_count": 6,
   "metadata": {},
   "outputs": [
    {
     "data": {
      "image/png": "[encoded data removed]",
      "text/plain": [
       "<Figure size 238.428x72 with 1 Axes>"
      ]
     },
     "metadata": {
      "needs_background": "light"
     },
     "output_type": "display_data"
    }
   ],
   "source": [
    "import matplotlib.pyplot as plt\n",
    "import matplotlib\n",
    "import numpy as np\n",
    "\n",
    "font = {'family':'Times New Roman', 'size': 6}\n",
    "\n",
    "matplotlib.rc('font', **font)\n",
    "\n",
    "my_dpi = 300\n",
    "fig_h = 1\n",
    "fig_w = 3.3115\n",
    "\n",
    "# construct some data like what you have:\n",
    "x = np.array([i for i in range(len(ufc_err_mean_list))])\n",
    "means1 = np.array(ufc_err_mean_list)\n",
    "stds1 = np.array(ufc_err_std_list)\n",
    "mins1 = np.array(ufc_err_min_list)\n",
    "maxs1 = np.array(ufc_err_max_list)\n",
    "\n",
    "means2 = np.array(ofc_err_mean_list)\n",
    "stds2 = np.array(ofc_err_std_list)\n",
    "mins2 = np.array(ofc_err_min_list)\n",
    "maxs2 = np.array(ofc_err_max_list)\n",
    "\n",
    "means3 = np.array(ifc_err_mean_list)\n",
    "stds3 = np.array(ifc_err_std_list)\n",
    "mins3 = np.array(ifc_err_min_list)\n",
    "maxs3 = np.array(ifc_err_max_list)\n",
    "\n",
    "x_label = ['6-32', '7-64', '8-128', '9-256', '10-512', '11-1024', '12-2048']\n",
    "\n",
    "width = 0.20\n",
    "fig, ax = plt.subplots(figsize=(fig_w, fig_h))\n",
    "\n",
    "ax.plot(x, means1, \"-o\", label=\"uSystolic\", color=\"#7A81FF\", ms=4)\n",
    "ax.fill_between(x, means1-stds1, means1+stds1, alpha=0.3, color=\"#7A81FF\", edgecolor=None)\n",
    "\n",
    "ax.plot(x, means2, \"-s\", label=\"FXP-o-res\", color=\"#FF7F7F\", ms=4)\n",
    "ax.fill_between(x, means2-stds2, means2+stds2, alpha=0.3, color=\"#FF7F7F\", edgecolor=None)\n",
    "\n",
    "ax.plot(x, means3, \"-^\", label=\"FXP-i-res\", color=\"#D783FF\", ms=4)\n",
    "ax.fill_between(x, means3-stds3, means3+stds3, alpha=0.3, color=\"#D783FF\", edgecolor=None)\n",
    "\n",
    "ax.set_xticks(x)\n",
    "ax.set_xticklabels(x_label)\n",
    "ax.set_yscale('linear')\n",
    "ax.set_yticks([0, 0.01, 0.02])\n",
    "ax.set_yticklabels([\"0.00\", \"0.01\", \"0.02\"])\n",
    "ax.legend(loc=\"upper right\", ncol=3, frameon=False)\n",
    "\n",
    "fig.tight_layout()\n",
    "plt.show()\n",
    "fig.savefig(\"test_kernel_linear_fxp_hub_compare_abs_err.pdf\", bbox_inches='tight', dpi=my_dpi)\n"
   ]
  },
  {
   "cell_type": "code",
   "execution_count": 7,
   "metadata": {},
   "outputs": [
    {
     "name": "stdout",
     "output_type": "stream",
     "text": [
      "[0.31519514, 0.20126407, 0.124766946, 0.07530014, 0.044202533, 0.025094695, 0.013617556]\n",
      "[0.37063196, 0.31381208, 0.2523589, 0.19604039, 0.1483346, 0.10953416, 0.07849869]\n",
      "\n",
      "[0.41617545, 0.3425048, 0.2506161, 0.20254159, 0.14653338, 0.11702261, 0.083802424]\n",
      "[0.53290904, 0.47514227, 0.3975655, 0.34841263, 0.28735542, 0.2500371, 0.2048385]\n",
      "\n",
      "[0.083802424, 0.047077734, 0.026040172, 0.014202542, 0.0076552574, 0.004100135, 8.5901036e-08]\n",
      "[0.2048385, 0.14483072, 0.10166737, 0.070793234, 0.04905121, 0.034698438, 1.7000609e-08]\n",
      "\n",
      "[32, 64, 128, 256, 512, 1024, 2048]\n"
     ]
    }
   ],
   "source": [
    "rounding = \"round\"\n",
    "abs_err = False\n",
    "ufc_err_min_list, ufc_err_max_list, ufc_err_mean_list, ufc_err_std_list, ofc_err_min_list, ofc_err_max_list, ofc_err_mean_list, ofc_err_std_list, ifc_err_min_list, ifc_err_max_list, ifc_err_mean_list, ifc_err_std_list, x_label = test(rounding, abs_err)\n",
    "print(ufc_err_mean_list)\n",
    "print(ufc_err_std_list)\n",
    "print()\n",
    "\n",
    "print(ofc_err_mean_list)\n",
    "print(ofc_err_std_list)\n",
    "print()\n",
    "\n",
    "print(ifc_err_mean_list)\n",
    "print(ifc_err_std_list)\n",
    "print()\n",
    "\n",
    "print(x_label)"
   ]
  },
  {
   "cell_type": "code",
   "execution_count": 8,
   "metadata": {},
   "outputs": [
    {
     "data": {
      "image/png": "[encoded data removed]",
      "text/plain": [
       "<Figure size 238.428x72 with 1 Axes>"
      ]
     },
     "metadata": {
      "needs_background": "light"
     },
     "output_type": "display_data"
    }
   ],
   "source": [
    "import matplotlib.pyplot as plt\n",
    "import matplotlib\n",
    "import numpy as np\n",
    "\n",
    "font = {'family':'Times New Roman', 'size': 6}\n",
    "\n",
    "matplotlib.rc('font', **font)\n",
    "\n",
    "my_dpi = 300\n",
    "fig_h = 1\n",
    "fig_w = 3.3115\n",
    "\n",
    "# construct some data like what you have:\n",
    "x = np.array([i for i in range(len(ufc_err_mean_list))])\n",
    "means1 = np.array(ufc_err_mean_list)\n",
    "stds1 = np.array(ufc_err_std_list)\n",
    "mins1 = np.array(ufc_err_min_list)\n",
    "maxs1 = np.array(ufc_err_max_list)\n",
    "\n",
    "means2 = np.array(ofc_err_mean_list)\n",
    "stds2 = np.array(ofc_err_std_list)\n",
    "mins2 = np.array(ofc_err_min_list)\n",
    "maxs2 = np.array(ofc_err_max_list)\n",
    "\n",
    "means3 = np.array(ifc_err_mean_list)\n",
    "stds3 = np.array(ifc_err_std_list)\n",
    "mins3 = np.array(ifc_err_min_list)\n",
    "maxs3 = np.array(ifc_err_max_list)\n",
    "\n",
    "x_label = ['6-32', '7-64', '8-128', '9-256', '10-512', '11-1024', '12-2048']\n",
    "\n",
    "width = 0.20\n",
    "fig, ax = plt.subplots(figsize=(fig_w, fig_h))\n",
    "\n",
    "ax.plot(x, means1, \"-o\", label=\"uSystolic\", color=\"#7A81FF\", ms=4)\n",
    "ax.fill_between(x, means1-stds1, means1+stds1, alpha=0.3, color=\"#7A81FF\", edgecolor=None)\n",
    "\n",
    "ax.plot(x, means2, \"-s\", label=\"FXP-o-res\", color=\"#FF7F7F\", ms=4)\n",
    "ax.fill_between(x, means2-stds2, means2+stds2, alpha=0.3, color=\"#FF7F7F\", edgecolor=None)\n",
    "\n",
    "ax.plot(x, means3, \"-^\", label=\"FXP-i-res\", color=\"#D783FF\", ms=4)\n",
    "ax.fill_between(x, means3-stds3, means3+stds3, alpha=0.3, color=\"#D783FF\", edgecolor=None)\n",
    "\n",
    "ax.set_xticks(x)\n",
    "ax.set_xticklabels(x_label)\n",
    "ax.set_yscale('linear')\n",
    "ax.set_yticks([0, 0.4, 0.8])\n",
    "ax.set_yticklabels([\"0.00\", \"0.40\", \"0.80\"])\n",
    "# ax.legend(loc=\"upper right\", ncol=3, frameon=False)\n",
    "\n",
    "fig.tight_layout()\n",
    "plt.show()\n",
    "fig.savefig(\"test_kernel_linear_fxp_hub_compare_rel_err.pdf\", bbox_inches='tight', dpi=my_dpi)\n"
   ]
  },
  {
   "cell_type": "code",
   "execution_count": null,
   "metadata": {},
   "outputs": [],
   "source": []
  }
 ],
 "metadata": {
  "kernelspec": {
   "display_name": "Python 3",
   "language": "python",
   "name": "python3"
  },
  "language_info": {
   "codemirror_mode": {
    "name": "ipython",
    "version": 3
   },
   "file_extension": ".py",
   "mimetype": "text/x-python",
   "name": "python",
   "nbconvert_exporter": "python",
   "pygments_lexer": "ipython3",
   "version": "3.8.5"
  }
 },
 "nbformat": 4,
 "nbformat_minor": 4
}
