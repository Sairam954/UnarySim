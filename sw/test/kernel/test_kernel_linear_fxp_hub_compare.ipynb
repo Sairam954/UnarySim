{
 "cells": [
  {
   "cell_type": "code",
   "execution_count": 1,
   "metadata": {},
   "outputs": [],
   "source": [
    "%load_ext autoreload\n",
    "%autoreload 2"
   ]
  },
  {
   "cell_type": "code",
   "execution_count": 2,
   "metadata": {},
   "outputs": [],
   "source": [
    "import torch\n",
    "from UnarySim.sw.kernel.linear import *\n",
    "import matplotlib.pyplot as plt\n",
    "import time\n",
    "import math"
   ]
  },
  {
   "cell_type": "code",
   "execution_count": 3,
   "metadata": {},
   "outputs": [],
   "source": [
    "device = torch.device(\"cuda:0\" if torch.cuda.is_available() else \"cpu\")"
   ]
  },
  {
   "cell_type": "code",
   "execution_count": 4,
   "metadata": {},
   "outputs": [],
   "source": [
    "def test(rounding = \"round\"):\n",
    "    in_feature = 1024\n",
    "    out_feature = 1024\n",
    "    bias = True\n",
    "\n",
    "    input = (torch.rand(256, in_feature) - 0.5).to(device)\n",
    "\n",
    "    fc = torch.nn.Linear(in_feature, out_feature, bias=bias).to(device)\n",
    "    fc_o = fc(input)\n",
    "    \n",
    "    ufc_err_min_list = []\n",
    "    ufc_err_max_list = []\n",
    "    ufc_err_mean_list = []\n",
    "    ufc_err_std_list = []\n",
    "\n",
    "    ffc_err_min_list = []\n",
    "    ffc_err_max_list = []\n",
    "    ffc_err_mean_list = []\n",
    "    ffc_err_std_list = []\n",
    "    \n",
    "    x_label = []\n",
    "    \n",
    "    for bitwidth in range(6, 13): \n",
    "        cycle = 2**(bitwidth-1)\n",
    "\n",
    "        ufc = HUBLinear(in_feature, out_feature, bias=bias, binary_weight=fc.weight.data, binary_bias=fc.bias, cycle=cycle, rounding=rounding).to(device)\n",
    "        ufc_o = ufc(input)\n",
    "\n",
    "        ffc = FxpLinear(in_feature, out_feature, bias=bias, binary_weight=fc.weight.data, binary_bias=fc.bias, bitwidth=bitwidth, rounding=rounding).to(device)\n",
    "        ffc_o = ffc(input)\n",
    "\n",
    "        ufc_err = (ufc_o - fc_o)\n",
    "        ffc_err = (ffc_o - fc_o)\n",
    "        \n",
    "        ufc_err_min_list.append(ufc_err.min().item())\n",
    "        ufc_err_max_list.append(ufc_err.max().item())\n",
    "        ufc_err_mean_list.append(ufc_err.mean().item())\n",
    "        ufc_err_std_list.append(ufc_err.std().item())\n",
    "        \n",
    "        ffc_err_min_list.append(ffc_err.min().item())\n",
    "        ffc_err_max_list.append(ffc_err.max().item())\n",
    "        ffc_err_mean_list.append(ffc_err.mean().item())\n",
    "        ffc_err_std_list.append(ffc_err.std().item())\n",
    "        \n",
    "        x_label.append(2**(bitwidth-1))\n",
    "        \n",
    "    return ufc_err_min_list, ufc_err_max_list, ufc_err_mean_list, ufc_err_std_list, ffc_err_min_list, ffc_err_max_list, ffc_err_mean_list, ffc_err_std_list, x_label\n"
   ]
  },
  {
   "cell_type": "code",
   "execution_count": 5,
   "metadata": {},
   "outputs": [
    {
     "name": "stdout",
     "output_type": "stream",
     "text": [
      "[-0.07429313659667969, -0.03614455461502075, -0.019196927547454834, -0.01001158356666565, -0.005250394344329834, -0.0026258230209350586, -0.0013356804847717285]\n",
      "[0.07491174340248108, 0.03795558214187622, 0.02048516273498535, 0.010170221328735352, 0.005152285099029541, 0.0023808181285858154, 0.001274406909942627]\n",
      "[1.591140971868299e-06, 1.8851344066206366e-05, 7.403800736938138e-07, 3.4379579574306263e-06, 1.5126818198041292e-06, 5.355157099984353e-07, -5.543049041989434e-07]\n",
      "[0.016615785658359528, 0.008474224247038364, 0.004320206586271524, 0.0022005923092365265, 0.0011180703295394778, 0.0005700456094928086, 0.0002945158048532903]\n",
      "[-0.01759597659111023, -0.007970273494720459, -0.0050785839557647705, -0.0021648481488227844, -0.0010089278221130371, -0.0005868040025234222, -0.00024771690368652344]\n",
      "[0.017973244190216064, 0.008413687348365784, 0.004163585603237152, 0.0019758939743041992, 0.00101422518491745, 0.0005729794502258301, 0.00022971630096435547]\n",
      "[1.346646786259953e-05, -7.213250682980288e-06, 5.351524237084959e-07, -8.499567911712802e-07, -3.6281377902014356e-08, -4.242479292315693e-07, 7.164731385955747e-08]\n",
      "[0.00377356237731874, 0.0018646207172423601, 0.0009296615025959909, 0.000466284021968022, 0.00023883541871327907, 0.00013045305968262255, 4.6210472646635026e-05]\n",
      "[32, 64, 128, 256, 512, 1024, 2048]\n"
     ]
    }
   ],
   "source": [
    "rounding = \"round\"\n",
    "ufc_err_min_list, ufc_err_max_list, ufc_err_mean_list, ufc_err_std_list, ffc_err_min_list, ffc_err_max_list, ffc_err_mean_list, ffc_err_std_list, x_label = test(rounding)\n",
    "print(ufc_err_min_list)\n",
    "print(ufc_err_max_list)\n",
    "print(ufc_err_mean_list)\n",
    "print(ufc_err_std_list)\n",
    "\n",
    "print(ffc_err_min_list)\n",
    "print(ffc_err_max_list)\n",
    "print(ffc_err_mean_list)\n",
    "print(ffc_err_std_list)\n",
    "\n",
    "print(x_label)"
   ]
  },
  {
   "cell_type": "code",
   "execution_count": 6,
   "metadata": {},
   "outputs": [
    {
     "data": {
      "image/png": "[encoded data removed]",
      "text/plain": [
       "<Figure size 238.428x115.2 with 1 Axes>"
      ]
     },
     "metadata": {
      "needs_background": "light"
     },
     "output_type": "display_data"
    }
   ],
   "source": [
    "import matplotlib.pyplot as plt\n",
    "import matplotlib\n",
    "import numpy as np\n",
    "\n",
    "font = {'family':'Times New Roman', 'size': 6}\n",
    "\n",
    "matplotlib.rc('font', **font)\n",
    "\n",
    "my_dpi = 300\n",
    "fig_h = 1.6\n",
    "fig_w = 3.3115\n",
    "\n",
    "# construct some data like what you have:\n",
    "x = np.array([i for i in range(len(ufc_err_mean_list))])\n",
    "means1 = np.array(ufc_err_mean_list)\n",
    "stds1 = np.array(ufc_err_std_list)\n",
    "mins1 = np.array(ufc_err_min_list)\n",
    "maxs1 = np.array(ufc_err_max_list)\n",
    "means2 = np.array(ffc_err_mean_list)\n",
    "stds2 = np.array(ffc_err_std_list)\n",
    "mins2 = np.array(ffc_err_min_list)\n",
    "maxs2 = np.array(ffc_err_max_list)\n",
    "x_label = np.array(x_label)\n",
    "\n",
    "width = 0.35\n",
    "fig, ax = plt.subplots(figsize=(fig_w, fig_h))\n",
    "ax.bar(x-width/2, means1, width, yerr=stds1, align='center', alpha=1, capsize=3, color=\"#7A81FF\", label=\"uSystolic\")\n",
    "ax.bar(x+width/2, means2, width, yerr=stds2, align='center', alpha=1, capsize=3, color=\"#FF7F7F\", label=\"FXP\")\n",
    "ax.set_xticks(x)\n",
    "ax.set_xticklabels(x_label)\n",
    "\n",
    "ax.set_yscale('symlog', linthresh=10**(-8))\n",
    "ax.set_ylim(-0.1, 0.99)\n",
    "ax.set_yticks([-10**(-1), -10**(-3), -10**(-5), -10**(-7), 0, 10**(-7), 10**(-5), 10**(-3), 10**(-1)])\n",
    "# ax.set_yticklabels([-10**(-2), -10**(-4), -10**(-6), -10**(-8), 0, 10**(-8), 10**(-6), 10**(-4), 10**(-2)])\n",
    "ax.set_yticklabels([\"-1e-1\", \"-1e-3\", \"-1e-5\", \"-1e-7\", \"0\", \"1e-7\", \"1e-5\", \"1e-3\", \"1e-1\"])\n",
    "ax.legend(loc=\"upper right\", ncol=2, frameon=False)\n",
    "\n",
    "fig.tight_layout()\n",
    "plt.show()\n",
    "fig.savefig(\"test_kernel_linear_fxp_hub_compare.pdf\", bbox_inches='tight', dpi=my_dpi)\n"
   ]
  },
  {
   "cell_type": "code",
   "execution_count": null,
   "metadata": {},
   "outputs": [],
   "source": []
  }
 ],
 "metadata": {
  "kernelspec": {
   "display_name": "Python 3",
   "language": "python",
   "name": "python3"
  },
  "language_info": {
   "codemirror_mode": {
    "name": "ipython",
    "version": 3
   },
   "file_extension": ".py",
   "mimetype": "text/x-python",
   "name": "python",
   "nbconvert_exporter": "python",
   "pygments_lexer": "ipython3",
   "version": "3.8.5"
  }
 },
 "nbformat": 4,
 "nbformat_minor": 4
}
