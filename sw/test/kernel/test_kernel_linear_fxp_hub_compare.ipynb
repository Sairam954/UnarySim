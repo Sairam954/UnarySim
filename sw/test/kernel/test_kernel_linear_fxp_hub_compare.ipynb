{
 "cells": [
  {
   "cell_type": "code",
   "execution_count": 1,
   "metadata": {},
   "outputs": [],
   "source": [
    "%load_ext autoreload\n",
    "%autoreload 2"
   ]
  },
  {
   "cell_type": "code",
   "execution_count": 2,
   "metadata": {},
   "outputs": [],
   "source": [
    "import torch\n",
    "from UnarySim.sw.kernel.linear import *\n",
    "import matplotlib.pyplot as plt\n",
    "import time\n",
    "import math"
   ]
  },
  {
   "cell_type": "code",
   "execution_count": 3,
   "metadata": {},
   "outputs": [],
   "source": [
    "device = torch.device(\"cuda:0\" if torch.cuda.is_available() else \"cpu\")"
   ]
  },
  {
   "cell_type": "code",
   "execution_count": 4,
   "metadata": {},
   "outputs": [],
   "source": [
    "def test(rounding = \"round\"):\n",
    "    in_feature = 1024\n",
    "    out_feature = 1024\n",
    "    bias = True\n",
    "\n",
    "    input = (torch.rand(256, in_feature) - 0.5).to(device)\n",
    "\n",
    "    fc = torch.nn.Linear(in_feature, out_feature, bias=bias).to(device)\n",
    "    fc_o = fc(input)\n",
    "    \n",
    "    ufc_err_min_list = []\n",
    "    ufc_err_max_list = []\n",
    "    ufc_err_mean_list = []\n",
    "    ufc_err_std_list = []\n",
    "\n",
    "    ffc_err_min_list = []\n",
    "    ffc_err_max_list = []\n",
    "    ffc_err_mean_list = []\n",
    "    ffc_err_std_list = []\n",
    "    \n",
    "    x_label = []\n",
    "    \n",
    "    for bitwidth in range(6, 13): \n",
    "        cycle = 2**(bitwidth-1)\n",
    "\n",
    "        ufc = HUBLinear(in_feature, out_feature, bias=bias, binary_weight=fc.weight.data, binary_bias=fc.bias, cycle=cycle, rounding=rounding).to(device)\n",
    "        ufc_o = ufc(input)\n",
    "\n",
    "        ffc = FxpLinear(in_feature, out_feature, bias=bias, binary_weight=fc.weight.data, binary_bias=fc.bias, bitwidth=bitwidth, rounding=rounding).to(device)\n",
    "        ffc_o = ffc(input)\n",
    "\n",
    "        ufc_err = (ufc_o - fc_o)\n",
    "        ffc_err = (ffc_o - fc_o)\n",
    "        \n",
    "        ufc_err_min_list.append(ufc_err.min().item())\n",
    "        ufc_err_max_list.append(ufc_err.max().item())\n",
    "        ufc_err_mean_list.append(ufc_err.mean().item())\n",
    "        ufc_err_std_list.append(ufc_err.std().item())\n",
    "        \n",
    "        ffc_err_min_list.append(ffc_err.min().item())\n",
    "        ffc_err_max_list.append(ffc_err.max().item())\n",
    "        ffc_err_mean_list.append(ffc_err.mean().item())\n",
    "        ffc_err_std_list.append(ffc_err.std().item())\n",
    "        \n",
    "        x_label.append(bitwidth)\n",
    "        \n",
    "    return ufc_err_min_list, ufc_err_max_list, ufc_err_mean_list, ufc_err_std_list, ffc_err_min_list, ffc_err_max_list, ffc_err_mean_list, ffc_err_std_list, x_label\n"
   ]
  },
  {
   "cell_type": "code",
   "execution_count": 5,
   "metadata": {},
   "outputs": [
    {
     "name": "stdout",
     "output_type": "stream",
     "text": [
      "[-0.07318973541259766, -0.03875201940536499, -0.01970905065536499, -0.010583639144897461, -0.005261600017547607, -0.00242459774017334, -0.0013068318367004395]\n",
      "[0.07448014616966248, 0.040658265352249146, 0.018283814191818237, 0.009488910436630249, 0.004703491926193237, 0.0024523138999938965, 0.0014784932136535645]\n",
      "[1.240038727701176e-05, 8.535403139831033e-06, 3.923956683138385e-06, 4.921172148897313e-06, 1.4362797173816944e-06, -2.676207486729254e-07, 8.118137202473008e-07]\n",
      "[0.016648154705762863, 0.008498837240040302, 0.004322628956288099, 0.0022055471781641245, 0.001121089793741703, 0.0005716715240851045, 0.00029524913406930864]\n",
      "[-0.017802521586418152, -0.00805724784731865, -0.004044488072395325, -0.0024314746260643005, -0.0010997522622346878, -0.0006002187728881836, -0.00019629299640655518]\n",
      "[0.017983868718147278, 0.008218728005886078, 0.004349732771515846, 0.0021945014595985413, 0.0010267728939652443, 0.0006246808916330338, 0.00019412487745285034]\n",
      "[1.0835673492692877e-05, 2.241844867967302e-06, -9.867518429018673e-07, -4.191726361568726e-07, -7.369925469902228e-08, 1.2342054844793893e-07, -1.4746055398973112e-07]\n",
      "[0.003767377696931362, 0.001862440025433898, 0.0009298785589635372, 0.0004662563733290881, 0.0002384244289714843, 0.00013052078429609537, 4.6273016778286546e-05]\n",
      "[6, 7, 8, 9, 10, 11, 12]\n"
     ]
    }
   ],
   "source": [
    "rounding = \"round\"\n",
    "ufc_err_min_list, ufc_err_max_list, ufc_err_mean_list, ufc_err_std_list, ffc_err_min_list, ffc_err_max_list, ffc_err_mean_list, ffc_err_std_list, x_label = test(rounding)\n",
    "print(ufc_err_min_list)\n",
    "print(ufc_err_max_list)\n",
    "print(ufc_err_mean_list)\n",
    "print(ufc_err_std_list)\n",
    "\n",
    "print(ffc_err_min_list)\n",
    "print(ffc_err_max_list)\n",
    "print(ffc_err_mean_list)\n",
    "print(ffc_err_std_list)\n",
    "\n",
    "print(x_label)"
   ]
  },
  {
   "cell_type": "code",
   "execution_count": 9,
   "metadata": {},
   "outputs": [
    {
     "data": {
      "image/png": "[encoded data removed]",
      "text/plain": [
       "<Figure size 238.428x115.2 with 1 Axes>"
      ]
     },
     "metadata": {
      "needs_background": "light"
     },
     "output_type": "display_data"
    }
   ],
   "source": [
    "import matplotlib.pyplot as plt\n",
    "import matplotlib\n",
    "import numpy as np\n",
    "\n",
    "font = {'family':'Times New Roman', 'size': 6}\n",
    "\n",
    "matplotlib.rc('font', **font)\n",
    "\n",
    "my_dpi = 300\n",
    "fig_h = 1.6\n",
    "fig_w = 3.3115\n",
    "\n",
    "# construct some data like what you have:\n",
    "x = np.array([i for i in range(len(ufc_err_mean_list))])\n",
    "means1 = np.array(ufc_err_mean_list)\n",
    "stds1 = np.array(ufc_err_std_list)\n",
    "mins1 = np.array(ufc_err_min_list)\n",
    "maxs1 = np.array(ufc_err_max_list)\n",
    "means2 = np.array(ffc_err_mean_list)\n",
    "stds2 = np.array(ffc_err_std_list)\n",
    "mins2 = np.array(ffc_err_min_list)\n",
    "maxs2 = np.array(ffc_err_max_list)\n",
    "x_label = np.array(x_label)\n",
    "\n",
    "width = 0.35\n",
    "fig, ax = plt.subplots(figsize=(fig_w, fig_h))\n",
    "ax.bar(x-width/2, means1, width, yerr=stds1, align='center', alpha=1, capsize=3, color=\"#7A81FF\", label=\"uSystolic\")\n",
    "ax.bar(x+width/2, means2, width, yerr=stds2, align='center', alpha=1, capsize=3, color=\"#FF7F7F\", label=\"Fxp\")\n",
    "ax.set_xticks(x)\n",
    "ax.set_xticklabels(x_label)\n",
    "\n",
    "ax.set_yscale('symlog', linthresh=10**(-8))\n",
    "ax.set_ylim(-0.1, 0.99)\n",
    "ax.set_yticks([-10**(-1), -10**(-3), -10**(-5), -10**(-7), 0, 10**(-7), 10**(-5), 10**(-3), 10**(-1)])\n",
    "# ax.set_yticklabels([-10**(-2), -10**(-4), -10**(-6), -10**(-8), 0, 10**(-8), 10**(-6), 10**(-4), 10**(-2)])\n",
    "ax.set_yticklabels([\"-1e-1\", \"-1e-3\", \"-1e-5\", \"-1e-7\", \"0\", \"1e-7\", \"1e-5\", \"1e-3\", \"1e-1\"])\n",
    "ax.legend(loc=\"upper right\", ncol=2, frameon=False)\n",
    "\n",
    "fig.tight_layout()\n",
    "plt.show()\n",
    "fig.savefig(\"test_kernel_linear_fxp_hub_compare.pdf\", bbox_inches='tight', dpi=my_dpi)\n"
   ]
  },
  {
   "cell_type": "code",
   "execution_count": null,
   "metadata": {},
   "outputs": [],
   "source": []
  }
 ],
 "metadata": {
  "kernelspec": {
   "display_name": "Python 3",
   "language": "python",
   "name": "python3"
  },
  "language_info": {
   "codemirror_mode": {
    "name": "ipython",
    "version": 3
   },
   "file_extension": ".py",
   "mimetype": "text/x-python",
   "name": "python",
   "nbconvert_exporter": "python",
   "pygments_lexer": "ipython3",
   "version": "3.8.5"
  }
 },
 "nbformat": 4,
 "nbformat_minor": 4
}
