{
 "cells": [
  {
   "cell_type": "code",
   "execution_count": 1,
   "metadata": {},
   "outputs": [],
   "source": [
    "%load_ext autoreload\n",
    "%autoreload 2"
   ]
  },
  {
   "cell_type": "code",
   "execution_count": 2,
   "metadata": {},
   "outputs": [],
   "source": [
    "import torch\n",
    "from UnarySim.sw.kernel.linear import *\n",
    "import matplotlib.pyplot as plt\n",
    "import time\n",
    "import math"
   ]
  },
  {
   "cell_type": "code",
   "execution_count": 3,
   "metadata": {},
   "outputs": [],
   "source": [
    "device = torch.device(\"cuda:0\" if torch.cuda.is_available() else \"cpu\")"
   ]
  },
  {
   "cell_type": "code",
   "execution_count": 4,
   "metadata": {},
   "outputs": [],
   "source": [
    "def test(rounding = \"round\"):\n",
    "    in_feature = 1024\n",
    "    out_feature = 1024\n",
    "    bias = True\n",
    "\n",
    "    input = (torch.rand(256, in_feature) - 0.5).to(device)\n",
    "\n",
    "    fc = torch.nn.Linear(in_feature, out_feature, bias=bias).to(device)\n",
    "    fc_o = fc(input)\n",
    "    \n",
    "    ufc_err_min_list = []\n",
    "    ufc_err_max_list = []\n",
    "    ufc_err_mean_list = []\n",
    "    ufc_err_std_list = []\n",
    "\n",
    "    ffc_err_min_list = []\n",
    "    ffc_err_max_list = []\n",
    "    ffc_err_mean_list = []\n",
    "    ffc_err_std_list = []\n",
    "    \n",
    "    x_label = []\n",
    "    \n",
    "    for bitwidth in range(6, 13): \n",
    "        cycle = 2**(bitwidth-1)\n",
    "\n",
    "        ufc = HUBLinear(in_feature, out_feature, bias=bias, binary_weight=fc.weight.data, binary_bias=fc.bias, cycle=cycle, rounding=rounding).to(device)\n",
    "        ufc_o = ufc(input)\n",
    "\n",
    "        ffc = FxpLinear(in_feature, out_feature, bias=bias, binary_weight=fc.weight.data, binary_bias=fc.bias, bitwidth=bitwidth, rounding=rounding).to(device)\n",
    "        ffc_o = ffc(input)\n",
    "\n",
    "        ufc_err = (ufc_o - fc_o)\n",
    "        ffc_err = (ffc_o - fc_o)\n",
    "        \n",
    "        ufc_err_min_list.append(ufc_err.min().item())\n",
    "        ufc_err_max_list.append(ufc_err.max().item())\n",
    "        ufc_err_mean_list.append(ufc_err.mean().item())\n",
    "        ufc_err_std_list.append(ufc_err.std().item())\n",
    "        \n",
    "        ffc_err_min_list.append(ffc_err.min().item())\n",
    "        ffc_err_max_list.append(ffc_err.max().item())\n",
    "        ffc_err_mean_list.append(ffc_err.mean().item())\n",
    "        ffc_err_std_list.append(ffc_err.std().item())\n",
    "        \n",
    "        x_label.append(2**(bitwidth-1))\n",
    "        \n",
    "    return ufc_err_min_list, ufc_err_max_list, ufc_err_mean_list, ufc_err_std_list, ffc_err_min_list, ffc_err_max_list, ffc_err_mean_list, ffc_err_std_list, x_label\n"
   ]
  },
  {
   "cell_type": "code",
   "execution_count": 5,
   "metadata": {},
   "outputs": [
    {
     "name": "stdout",
     "output_type": "stream",
     "text": [
      "[-0.0737392008304596, -0.037518322467803955, -0.018618762493133545, -0.010880708694458008, -0.005082368850708008, -0.002708256244659424, -0.0013614892959594727]\n",
      "[0.07470124959945679, 0.03989970684051514, 0.019758105278015137, 0.00999721884727478, 0.005140185356140137, 0.002814769744873047, 0.0012814104557037354]\n",
      "[-2.5662820917204954e-06, -3.3942283153010067e-06, 6.0177167142683174e-06, -2.3616246380697703e-06, 1.7895124528877204e-06, -1.0725400443334365e-06, -1.6709302030903928e-07]\n",
      "[0.01661987043917179, 0.008508567698299885, 0.004337570164352655, 0.002204572083428502, 0.00112235639244318, 0.0005731722339987755, 0.0002951383648905903]\n",
      "[-0.01717378944158554, -0.008526861667633057, -0.0042225513607263565, -0.0021167024970054626, -0.00104561448097229, -0.00058736652135849, -0.00023762881755828857]\n",
      "[0.018360063433647156, 0.008241727948188782, 0.0040991902351379395, 0.0023218244314193726, 0.001242317259311676, 0.0006197039037942886, 0.00021025724709033966]\n",
      "[-1.2480954865168314e-05, 6.870461220387369e-06, -3.774243850784842e-07, 5.718362672268995e-07, -6.502855853796063e-07, 1.1156180335092358e-07, 3.94439467754637e-08]\n",
      "[0.003776014083996415, 0.0018631938146427274, 0.0009297479991801083, 0.00046622706577181816, 0.0002387703425483778, 0.00013100904470775276, 4.620224717655219e-05]\n",
      "[32, 64, 128, 256, 512, 1024, 2048]\n"
     ]
    }
   ],
   "source": [
    "rounding = \"round\"\n",
    "ufc_err_min_list, ufc_err_max_list, ufc_err_mean_list, ufc_err_std_list, ffc_err_min_list, ffc_err_max_list, ffc_err_mean_list, ffc_err_std_list, x_label = test(rounding)\n",
    "print(ufc_err_min_list)\n",
    "print(ufc_err_max_list)\n",
    "print(ufc_err_mean_list)\n",
    "print(ufc_err_std_list)\n",
    "\n",
    "print(ffc_err_min_list)\n",
    "print(ffc_err_max_list)\n",
    "print(ffc_err_mean_list)\n",
    "print(ffc_err_std_list)\n",
    "\n",
    "print(x_label)"
   ]
  },
  {
   "cell_type": "code",
   "execution_count": 6,
   "metadata": {},
   "outputs": [
    {
     "data": {
      "image/png": "[encoded data removed]",
      "text/plain": [
       "<Figure size 238.428x115.2 with 1 Axes>"
      ]
     },
     "metadata": {
      "needs_background": "light"
     },
     "output_type": "display_data"
    }
   ],
   "source": [
    "import matplotlib.pyplot as plt\n",
    "import matplotlib\n",
    "import numpy as np\n",
    "\n",
    "font = {'family':'Times New Roman', 'size': 6}\n",
    "\n",
    "matplotlib.rc('font', **font)\n",
    "\n",
    "my_dpi = 300\n",
    "fig_h = 1.6\n",
    "fig_w = 3.3115\n",
    "\n",
    "# construct some data like what you have:\n",
    "x = np.array([i for i in range(len(ufc_err_mean_list))])\n",
    "means1 = np.array(ufc_err_mean_list)\n",
    "stds1 = np.array(ufc_err_std_list)\n",
    "mins1 = np.array(ufc_err_min_list)\n",
    "maxs1 = np.array(ufc_err_max_list)\n",
    "means2 = np.array(ffc_err_mean_list)\n",
    "stds2 = np.array(ffc_err_std_list)\n",
    "mins2 = np.array(ffc_err_min_list)\n",
    "maxs2 = np.array(ffc_err_max_list)\n",
    "x_label = ['32-6', '64-7', '128-8', '256-9', '512-10', '1024-11', '2048-12']\n",
    "\n",
    "width = 0.35\n",
    "fig, ax = plt.subplots(figsize=(fig_w, fig_h))\n",
    "ax.bar(x-width/2, means1, width, yerr=stds1, align='center', alpha=1, capsize=3, color=\"#7A81FF\", label=\"uSystolic\")\n",
    "ax.bar(x+width/2, means2, width, yerr=stds2, align='center', alpha=1, capsize=3, color=\"#FF7F7F\", label=\"FXP\")\n",
    "ax.set_xticks(x)\n",
    "ax.set_xticklabels(x_label)\n",
    "\n",
    "ax.set_yscale('symlog', linthresh=10**(-8))\n",
    "ax.set_ylim(-0.1, 0.99)\n",
    "ax.set_yticks([-10**(-1), -10**(-3), -10**(-5), -10**(-7), 0, 10**(-7), 10**(-5), 10**(-3), 10**(-1)])\n",
    "# ax.set_yticklabels([-10**(-2), -10**(-4), -10**(-6), -10**(-8), 0, 10**(-8), 10**(-6), 10**(-4), 10**(-2)])\n",
    "ax.set_yticklabels([\"-1e-1\", \"-1e-3\", \"-1e-5\", \"-1e-7\", \"0\", \"1e-7\", \"1e-5\", \"1e-3\", \"1e-1\"])\n",
    "ax.legend(loc=\"upper right\", ncol=2, frameon=False)\n",
    "\n",
    "fig.tight_layout()\n",
    "plt.show()\n",
    "fig.savefig(\"test_kernel_linear_fxp_hub_compare.pdf\", bbox_inches='tight', dpi=my_dpi)\n"
   ]
  },
  {
   "cell_type": "code",
   "execution_count": null,
   "metadata": {},
   "outputs": [],
   "source": []
  }
 ],
 "metadata": {
  "kernelspec": {
   "display_name": "Python 3",
   "language": "python",
   "name": "python3"
  },
  "language_info": {
   "codemirror_mode": {
    "name": "ipython",
    "version": 3
   },
   "file_extension": ".py",
   "mimetype": "text/x-python",
   "name": "python",
   "nbconvert_exporter": "python",
   "pygments_lexer": "ipython3",
   "version": "3.8.5"
  }
 },
 "nbformat": 4,
 "nbformat_minor": 4
}
