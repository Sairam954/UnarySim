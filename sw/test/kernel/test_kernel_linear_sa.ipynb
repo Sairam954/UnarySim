{
 "cells": [
  {
   "cell_type": "code",
   "execution_count": 1,
   "metadata": {},
   "outputs": [],
   "source": [
    "%load_ext autoreload\n",
    "%autoreload 2"
   ]
  },
  {
   "cell_type": "code",
   "execution_count": 2,
   "metadata": {},
   "outputs": [],
   "source": [
    "import torch\n",
    "from UnarySim.sw.kernel.linear import *\n",
    "import matplotlib.pyplot as plt\n",
    "import time\n",
    "import math"
   ]
  },
  {
   "cell_type": "code",
   "execution_count": 3,
   "metadata": {},
   "outputs": [],
   "source": [
    "device = torch.device(\"cuda:0\" if torch.cuda.is_available() else \"cpu\")"
   ]
  },
  {
   "cell_type": "code",
   "execution_count": 4,
   "metadata": {},
   "outputs": [
    {
     "name": "stdout",
     "output_type": "stream",
     "text": [
      "input_format:  1 3 13\n",
      "weight_format:  1 -2 18\n"
     ]
    }
   ],
   "source": [
    "in_feature = 16\n",
    "out_feature = 8\n",
    "bias = True\n",
    "cycle = 256\n",
    "\n",
    "total_bit = 16\n",
    "input_int_bit = 3\n",
    "input_fra_bit = total_bit - input_int_bit\n",
    "\n",
    "input = ((torch.rand(256, in_feature) - 0.5) * 2**(2*input_int_bit)).round().div(2**(input_int_bit)).to(device)\n",
    "\n",
    "fc = torch.nn.Linear(in_feature, out_feature, bias=bias).to(device)\n",
    "fc_o = fc(input)\n",
    "\n",
    "weight_int_bit = int(math.log2(fc.weight.abs().max().item()))\n",
    "weight_fra_bit = total_bit - weight_int_bit\n",
    "print(\"input_format: \", 1, input_int_bit, input_fra_bit)\n",
    "print(\"weight_format: \", 1, weight_int_bit, weight_fra_bit)\n",
    "ufc = UnaryLinearSA(in_feature, out_feature, bias=bias, binary_weight=fc.weight.data, binary_bias=fc.bias, cycle=cycle).to(device)\n",
    "ufc_o = ufc(input)\n",
    "\n",
    "(fc_o - ufc_o).abs().mean().backward()"
   ]
  },
  {
   "cell_type": "code",
   "execution_count": 5,
   "metadata": {},
   "outputs": [
    {
     "name": "stdout",
     "output_type": "stream",
     "text": [
      "diff max: tensor(0.0422, device='cuda:0', grad_fn=<MaxBackward1>)\n",
      "diff min: tensor(-0.0366, device='cuda:0', grad_fn=<MinBackward1>)\n",
      "diff mean: tensor(0.0004, device='cuda:0', grad_fn=<MeanBackward0>)\n"
     ]
    },
    {
     "data": {
      "image/png": "[encoded data removed]",
      "text/plain": [
       "<Figure size 432x288 with 1 Axes>"
      ]
     },
     "metadata": {
      "needs_background": "light"
     },
     "output_type": "display_data"
    }
   ],
   "source": [
    "diff = (ufc_o - fc_o)\n",
    "print(\"diff max:\", diff.max())\n",
    "print(\"diff min:\", diff.min())\n",
    "print(\"diff mean:\", diff.mean())\n",
    "\n",
    "fig = plt.hist(diff.cpu().detach().numpy().flatten(), bins='auto')  # arguments are passed to np.histogram\n",
    "plt.title(\"Histogram for output error\")\n",
    "plt.show()"
   ]
  },
  {
   "cell_type": "code",
   "execution_count": 6,
   "metadata": {},
   "outputs": [
    {
     "name": "stdout",
     "output_type": "stream",
     "text": [
      "diff grad max: tensor(0.2249, device='cuda:0')\n",
      "diff grad min: tensor(-0.2220, device='cuda:0')\n",
      "diff grad mean: tensor(0.0019, device='cuda:0')\n"
     ]
    },
    {
     "data": {
      "image/png": "[encoded data removed]",
      "text/plain": [
       "<Figure size 432x288 with 1 Axes>"
      ]
     },
     "metadata": {
      "needs_background": "light"
     },
     "output_type": "display_data"
    }
   ],
   "source": [
    "diff_grad = (ufc.weight.grad - fc.weight.grad)\n",
    "print(\"diff grad max:\", diff_grad.max())\n",
    "print(\"diff grad min:\", diff_grad.min())\n",
    "print(\"diff grad mean:\", diff_grad.mean())\n",
    "\n",
    "fig = plt.hist(diff_grad.cpu().detach().numpy().flatten(), bins='auto')  # arguments are passed to np.histogram\n",
    "plt.title(\"Histogram for grad error\")\n",
    "plt.show()"
   ]
  },
  {
   "cell_type": "code",
   "execution_count": 7,
   "metadata": {},
   "outputs": [
    {
     "name": "stdout",
     "output_type": "stream",
     "text": [
      "tensor([[-1.3938, -0.7525,  0.8408,  ..., -0.4775,  0.8931, -1.5578],\n",
      "        [-0.4875, -0.8228,  2.0908,  ..., -0.5674,  1.0533, -1.3078],\n",
      "        [ 0.1023, -0.5533, -1.4873,  ..., -1.3760,  0.5572, -1.9680],\n",
      "        ...,\n",
      "        [-1.5852,  0.2632,  1.6416,  ...,  2.4756,  1.7135, -0.9172],\n",
      "        [-1.4290, -1.2134, -0.8116,  ..., -0.5908,  0.1431, -1.3703],\n",
      "        [-0.8196, -1.8736,  0.4619,  ..., -0.6260,  0.5767, -0.9836]],\n",
      "       device='cuda:0', grad_fn=<UnaryLinearSAFunctionBackward>)\n"
     ]
    }
   ],
   "source": [
    "print(ufc_o)"
   ]
  },
  {
   "cell_type": "code",
   "execution_count": null,
   "metadata": {},
   "outputs": [],
   "source": []
  }
 ],
 "metadata": {
  "kernelspec": {
   "display_name": "Python 3",
   "language": "python",
   "name": "python3"
  },
  "language_info": {
   "codemirror_mode": {
    "name": "ipython",
    "version": 3
   },
   "file_extension": ".py",
   "mimetype": "text/x-python",
   "name": "python",
   "nbconvert_exporter": "python",
   "pygments_lexer": "ipython3",
   "version": "3.8.5"
  }
 },
 "nbformat": 4,
 "nbformat_minor": 4
}
