{
 "cells": [
  {
   "cell_type": "code",
   "execution_count": 1,
   "metadata": {},
   "outputs": [],
   "source": [
    "%load_ext autoreload\n",
    "%autoreload 2"
   ]
  },
  {
   "cell_type": "code",
   "execution_count": 2,
   "metadata": {},
   "outputs": [],
   "source": [
    "import torch\n",
    "from UnarySim.sw.kernel.shiftreg import ShiftReg\n",
    "from UnarySim.sw.stream.gen import RNG, SourceGen, BSGen\n",
    "from UnarySim.sw.metric.metric import ProgressiveError\n",
    "import matplotlib.pyplot as plt\n",
    "import time\n",
    "import math\n",
    "import numpy as np"
   ]
  },
  {
   "cell_type": "code",
   "execution_count": 3,
   "metadata": {},
   "outputs": [],
   "source": [
    "device = torch.device(\"cuda:0\" if torch.cuda.is_available() else \"cpu\")"
   ]
  },
  {
   "cell_type": "code",
   "execution_count": 4,
   "metadata": {},
   "outputs": [],
   "source": [
    "depth = 4\n",
    "stype = torch.int8\n",
    "sr = ShiftReg(depth=4, stype=stype).to(device)"
   ]
  },
  {
   "cell_type": "code",
   "execution_count": 5,
   "metadata": {},
   "outputs": [],
   "source": [
    "a = torch.tensor([[1, 1], [1, 0], [0, 1], [0, 0]]).type(stype).to(device)"
   ]
  },
  {
   "cell_type": "code",
   "execution_count": 6,
   "metadata": {},
   "outputs": [
    {
     "name": "stdout",
     "output_type": "stream",
     "text": [
      "tensor([[0, 0],\n",
      "        [0, 0],\n",
      "        [0, 0],\n",
      "        [0, 0]], device='cuda:0', dtype=torch.int8) tensor([[2, 2],\n",
      "        [2, 2],\n",
      "        [2, 2],\n",
      "        [2, 2]], device='cuda:0')\n",
      "Parameter containing:\n",
      "tensor([[[1, 1],\n",
      "         [1, 1],\n",
      "         [0, 0],\n",
      "         [0, 0]],\n",
      "\n",
      "        [[0, 0],\n",
      "         [0, 0],\n",
      "         [1, 1],\n",
      "         [1, 1]],\n",
      "\n",
      "        [[1, 1],\n",
      "         [1, 1],\n",
      "         [0, 0],\n",
      "         [0, 0]],\n",
      "\n",
      "        [[1, 1],\n",
      "         [1, 0],\n",
      "         [1, 1],\n",
      "         [1, 1]]], device='cuda:0', dtype=torch.int8)\n"
     ]
    }
   ],
   "source": [
    "oBit, cnt = sr(a, mask=torch.tensor([[1, 1], [1, 1], [0, 0], [0, 0]]).to(device))\n",
    "print(oBit, cnt)\n",
    "print(sr.sr)"
   ]
  },
  {
   "cell_type": "code",
   "execution_count": null,
   "metadata": {},
   "outputs": [],
   "source": []
  }
 ],
 "metadata": {
  "kernelspec": {
   "display_name": "Python 3",
   "language": "python",
   "name": "python3"
  },
  "language_info": {
   "codemirror_mode": {
    "name": "ipython",
    "version": 3
   },
   "file_extension": ".py",
   "mimetype": "text/x-python",
   "name": "python",
   "nbconvert_exporter": "python",
   "pygments_lexer": "ipython3",
   "version": "3.8.5"
  }
 },
 "nbformat": 4,
 "nbformat_minor": 4
}
