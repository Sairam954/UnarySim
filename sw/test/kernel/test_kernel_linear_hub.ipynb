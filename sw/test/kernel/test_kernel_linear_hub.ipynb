{
 "cells": [
  {
   "cell_type": "code",
   "execution_count": 1,
   "metadata": {},
   "outputs": [],
   "source": [
    "%load_ext autoreload\n",
    "%autoreload 2"
   ]
  },
  {
   "cell_type": "code",
   "execution_count": 2,
   "metadata": {},
   "outputs": [],
   "source": [
    "import torch\n",
    "from UnarySim.sw.kernel.linear import *\n",
    "import matplotlib.pyplot as plt\n",
    "import time\n",
    "import math"
   ]
  },
  {
   "cell_type": "code",
   "execution_count": 3,
   "metadata": {},
   "outputs": [],
   "source": [
    "device = torch.device(\"cuda:0\" if torch.cuda.is_available() else \"cpu\")"
   ]
  },
  {
   "cell_type": "code",
   "execution_count": 4,
   "metadata": {},
   "outputs": [],
   "source": [
    "in_feature = 16\n",
    "out_feature = 8\n",
    "bias = True\n",
    "cycle = 128\n",
    "rounding = \"round\"\n",
    "\n",
    "total_bit = 16\n",
    "input_int_bit = 3\n",
    "input_fra_bit = total_bit - input_int_bit\n",
    "\n",
    "input = ((torch.rand(256, in_feature) - 0.5) * 2**(2*input_int_bit)).round().div(2**(input_int_bit)).to(device)\n",
    "\n",
    "fc = torch.nn.Linear(in_feature, out_feature, bias=bias).to(device)\n",
    "fc_o = fc(input)\n",
    "\n",
    "ufc = HUBLinear(in_feature, out_feature, bias=bias, binary_weight=fc.weight.data, binary_bias=fc.bias, cycle=cycle, rounding=rounding).to(device)\n",
    "ufc_o = ufc(input)\n",
    "\n",
    "(fc_o - ufc_o).abs().mean().backward()"
   ]
  },
  {
   "cell_type": "code",
   "execution_count": 5,
   "metadata": {},
   "outputs": [
    {
     "name": "stdout",
     "output_type": "stream",
     "text": [
      "diff max: tensor(0.0818, device='cuda:0', grad_fn=<MaxBackward1>)\n",
      "diff min: tensor(-0.0892, device='cuda:0', grad_fn=<MinBackward1>)\n",
      "diff mean: tensor(0.0002, device='cuda:0', grad_fn=<MeanBackward0>)\n"
     ]
    },
    {
     "data": {
      "image/png": "[encoded data removed]",
      "text/plain": [
       "<Figure size 432x288 with 1 Axes>"
      ]
     },
     "metadata": {
      "needs_background": "light"
     },
     "output_type": "display_data"
    }
   ],
   "source": [
    "diff = (ufc_o - fc_o)\n",
    "print(\"diff max:\", diff.max())\n",
    "print(\"diff min:\", diff.min())\n",
    "print(\"diff mean:\", diff.mean())\n",
    "\n",
    "fig = plt.hist(diff.cpu().detach().numpy().flatten(), bins='auto')  # arguments are passed to np.histogram\n",
    "plt.title(\"Histogram for output error\")\n",
    "plt.show()"
   ]
  },
  {
   "cell_type": "code",
   "execution_count": 6,
   "metadata": {},
   "outputs": [
    {
     "name": "stdout",
     "output_type": "stream",
     "text": [
      "diff grad max: tensor(0.2457, device='cuda:0')\n",
      "diff grad min: tensor(-0.2369, device='cuda:0')\n",
      "diff grad mean: tensor(-0.0141, device='cuda:0')\n"
     ]
    },
    {
     "data": {
      "image/png": "[encoded data removed]",
      "text/plain": [
       "<Figure size 432x288 with 1 Axes>"
      ]
     },
     "metadata": {
      "needs_background": "light"
     },
     "output_type": "display_data"
    }
   ],
   "source": [
    "diff_grad = (ufc.weight.grad - fc.weight.grad)\n",
    "print(\"diff grad max:\", diff_grad.max())\n",
    "print(\"diff grad min:\", diff_grad.min())\n",
    "print(\"diff grad mean:\", diff_grad.mean())\n",
    "\n",
    "fig = plt.hist(diff_grad.cpu().detach().numpy().flatten(), bins='auto')  # arguments are passed to np.histogram\n",
    "plt.title(\"Histogram for grad error\")\n",
    "plt.show()"
   ]
  },
  {
   "cell_type": "code",
   "execution_count": 7,
   "metadata": {},
   "outputs": [
    {
     "name": "stdout",
     "output_type": "stream",
     "text": [
      "tensor([[-1.5121,  1.2241, -0.9702,  ..., -0.6745, -0.0732, -1.6021],\n",
      "        [-1.7152,  2.3335, -0.0795,  ..., -2.8620, -1.6904, -0.2037],\n",
      "        [ 1.3864, -1.8775,  0.7486,  ...,  2.4192,  0.5206, -0.2583],\n",
      "        ...,\n",
      "        [-0.2699,  3.1694, -1.3764,  ...,  0.6302,  1.0987, -0.2037],\n",
      "        [ 0.0114, -2.1587,  1.8189,  ...,  0.0286,  0.9424, -1.5865],\n",
      "        [-0.6683,  1.4819,  0.7642,  ..., -3.2839,  0.3018, -0.0630]],\n",
      "       device='cuda:0', grad_fn=<HUBLinearFunctionBackward>)\n"
     ]
    }
   ],
   "source": [
    "print(ufc_o)"
   ]
  },
  {
   "cell_type": "code",
   "execution_count": null,
   "metadata": {},
   "outputs": [],
   "source": []
  }
 ],
 "metadata": {
  "kernelspec": {
   "display_name": "Python 3",
   "language": "python",
   "name": "python3"
  },
  "language_info": {
   "codemirror_mode": {
    "name": "ipython",
    "version": 3
   },
   "file_extension": ".py",
   "mimetype": "text/x-python",
   "name": "python",
   "nbconvert_exporter": "python",
   "pygments_lexer": "ipython3",
   "version": "3.8.5"
  }
 },
 "nbformat": 4,
 "nbformat_minor": 4
}
