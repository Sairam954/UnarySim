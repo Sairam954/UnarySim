{
 "cells": [
  {
   "cell_type": "code",
   "execution_count": 1,
   "metadata": {},
   "outputs": [],
   "source": [
    "%load_ext autoreload\n",
    "%autoreload 2"
   ]
  },
  {
   "cell_type": "code",
   "execution_count": 2,
   "metadata": {},
   "outputs": [],
   "source": [
    "import torch\n",
    "from UnarySim.sw.kernel.mul import UnaryMul\n",
    "from UnarySim.sw.stream.gen import RNG, SourceGen, BSGen\n",
    "from UnarySim.sw.metric.metric import ProgressiveError\n",
    "import matplotlib.pyplot as plt\n",
    "import time\n",
    "import math"
   ]
  },
  {
   "cell_type": "code",
   "execution_count": 3,
   "metadata": {},
   "outputs": [],
   "source": [
    "device = torch.device(\"cuda:0\" if torch.cuda.is_available() else \"cpu\")\n",
    "# device = \"cpu\"\n",
    "rng = \"Sobol\""
   ]
  },
  {
   "cell_type": "code",
   "execution_count": 4,
   "metadata": {},
   "outputs": [
    {
     "name": "stdout",
     "output_type": "stream",
     "text": [
      "--- 0.10402345657348633 seconds ---\n",
      "input error:  tensor(-0.0078, device='cuda:0') tensor(0.0039, device='cuda:0')\n",
      "output error:  tensor(-0.0273, device='cuda:0') tensor(0.0273, device='cuda:0')\n",
      "RMSE 0.007878045356102776\n",
      "bias -3.828125e-05\n"
     ]
    },
    {
     "data": {
      "image/png": "[encoded data removed]",
      "text/plain": [
       "<Figure size 432x288 with 1 Axes>"
      ]
     },
     "metadata": {
      "needs_background": "light"
     },
     "output_type": "display_data"
    },
    {
     "name": "stdout",
     "output_type": "stream",
     "text": [
      "--- 0.06801462173461914 seconds ---\n",
      "input error:  tensor(-0.0039, device='cuda:0') tensor(0., device='cuda:0')\n",
      "output error:  tensor(-0.0117, device='cuda:0') tensor(0.0078, device='cuda:0')\n",
      "RMSE 0.003165749935836689\n",
      "bias -0.00147734375\n"
     ]
    },
    {
     "data": {
      "image/png": "[encoded data removed]",
      "text/plain": [
       "<Figure size 432x288 with 1 Axes>"
      ]
     },
     "metadata": {
      "needs_background": "light"
     },
     "output_type": "display_data"
    }
   ],
   "source": [
    "col = 10000\n",
    "modes = [\"bipolar\", \"unipolar\"]\n",
    "static = True\n",
    "bitwidth = 8\n",
    "stype = torch.int8\n",
    "rtype = torch.long\n",
    "\n",
    "for mode in modes:\n",
    "    if mode == \"unipolar\":\n",
    "        input_prob = torch.rand(col).mul(2**bitwidth).round().div(2**bitwidth).to(device)\n",
    "        iVec = torch.rand(col).mul(2**bitwidth).round().div(2**bitwidth).to(device)\n",
    "    elif mode == \"bipolar\":\n",
    "        input_prob = torch.rand(col).mul(2).sub(1).mul(2**bitwidth).round().div(2**bitwidth).to(device)\n",
    "        iVec = torch.rand(col).mul(2).sub(1).mul(2**bitwidth).round().div(2**bitwidth).to(device)\n",
    "\n",
    "    dut_mul = UnaryMul(bitwidth=bitwidth, mode=mode, static=static, input_prob_1=input_prob, stype=stype, rtype=rtype).to(device)\n",
    "\n",
    "    oVec = torch.mul(iVec, input_prob).mul(2**bitwidth).round().div(2**bitwidth).to(device)\n",
    "\n",
    "    iVecPE = ProgressiveError(iVec, mode=mode).to(device)\n",
    "    oVecPE = ProgressiveError(oVec, mode=mode).to(device)\n",
    "\n",
    "    iVecSource = SourceGen(iVec, bitwidth, mode=mode)().to(device)\n",
    "    iVecRNG = RNG(bitwidth, 1, rng)().to(device)\n",
    "    iVecBS = BSGen(iVecSource, iVecRNG, stype).to(device)\n",
    "\n",
    "    with torch.no_grad():\n",
    "        start_time = time.time()\n",
    "        for i in range(2**bitwidth):             # unary cycle count 2^n for n-bit binary data\n",
    "            iBS = iVecBS(torch.tensor([i]))      # input bit stream generation\n",
    "            iVecPE.Monitor(iBS)                  # input accuracy measurement\n",
    "            oVecU = dut_mul(iBS)                 # computing kernel, e.g., multiplication\n",
    "            oVecPE.Monitor(oVecU)                # output accuracy measurement\n",
    "        print(\"--- %s seconds ---\" % (time.time() - start_time))\n",
    "        print(\"input error: \", torch.min(iVecPE()[1]), torch.max(iVecPE()[1]))\n",
    "        print(\"output error: \", torch.min(oVecPE()[1]), torch.max(oVecPE()[1]))\n",
    "        result_pe = oVecPE()[1].cpu().numpy()\n",
    "        print(\"RMSE\", math.sqrt(sum(result_pe**2)/len(result_pe)))\n",
    "        print(\"bias\", sum(result_pe)/len(result_pe))\n",
    "        fig = plt.hist(result_pe, bins='auto')  # arguments are passed to np.histogram\n",
    "        plt.title(\"Histogram for final output error\")\n",
    "        plt.show()"
   ]
  },
  {
   "cell_type": "code",
   "execution_count": null,
   "metadata": {},
   "outputs": [],
   "source": []
  }
 ],
 "metadata": {
  "kernelspec": {
   "display_name": "Python 3",
   "language": "python",
   "name": "python3"
  },
  "language_info": {
   "codemirror_mode": {
    "name": "ipython",
    "version": 3
   },
   "file_extension": ".py",
   "mimetype": "text/x-python",
   "name": "python",
   "nbconvert_exporter": "python",
   "pygments_lexer": "ipython3",
   "version": "3.8.5"
  }
 },
 "nbformat": 4,
 "nbformat_minor": 4
}
