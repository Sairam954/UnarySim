{
 "cells": [
  {
   "cell_type": "code",
   "execution_count": null,
   "metadata": {},
   "outputs": [],
   "source": [
    "%load_ext autoreload\n",
    "%autoreload 2"
   ]
  },
  {
   "cell_type": "code",
   "execution_count": 2,
   "metadata": {},
   "outputs": [],
   "source": [
    "import torch\n",
    "from UnarySim.sw.kernel.linear import *\n",
    "import matplotlib.pyplot as plt\n",
    "import time\n",
    "import math"
   ]
  },
  {
   "cell_type": "code",
   "execution_count": 3,
   "metadata": {},
   "outputs": [],
   "source": [
    "device = torch.device(\"cuda:0\" if torch.cuda.is_available() else \"cpu\")"
   ]
  },
  {
   "cell_type": "code",
   "execution_count": 4,
   "metadata": {},
   "outputs": [],
   "source": [
    "in_feature = 16\n",
    "out_feature = 8\n",
    "bias = True\n",
    "bitwidth = 8\n",
    "keep_res = \"input\"\n",
    "more_res = \"input\"\n",
    "rounding = \"round\"\n",
    "\n",
    "total_bit = 16\n",
    "input_int_bit = 3\n",
    "input_fra_bit = total_bit - input_int_bit\n",
    "\n",
    "input = ((torch.rand(256, in_feature) - 0.5) * 2**(2*input_int_bit)).round().div(2**(input_int_bit)).to(device)\n",
    "\n",
    "fc = torch.nn.Linear(in_feature, out_feature, bias=bias).to(device)\n",
    "fc_o = fc(input)\n",
    "\n",
    "ufc = FxpLinear(in_feature, out_feature, bias=bias, binary_weight=fc.weight.data, binary_bias=fc.bias, bitwidth=bitwidth, keep_res=keep_res, more_res=more_res, rounding=rounding).to(device)\n",
    "ufc_o = ufc(input)\n",
    "\n",
    "(fc_o - ufc_o).abs().mean().backward()"
   ]
  },
  {
   "cell_type": "code",
   "execution_count": 5,
   "metadata": {},
   "outputs": [
    {
     "name": "stdout",
     "output_type": "stream",
     "text": [
      "diff max: tensor(0.0177, device='cuda:0', grad_fn=<MaxBackward1>)\n",
      "diff min: tensor(-0.0262, device='cuda:0', grad_fn=<MinBackward1>)\n",
      "diff mean: tensor(-6.4635e-05, device='cuda:0', grad_fn=<MeanBackward0>)\n"
     ]
    },
    {
     "data": {
      "image/png": "[encoded data removed]",
      "text/plain": [
       "<Figure size 432x288 with 1 Axes>"
      ]
     },
     "metadata": {
      "needs_background": "light"
     },
     "output_type": "display_data"
    }
   ],
   "source": [
    "diff = (ufc_o - fc_o)\n",
    "print(\"diff max:\", diff.max())\n",
    "print(\"diff min:\", diff.min())\n",
    "print(\"diff mean:\", diff.mean())\n",
    "\n",
    "fig = plt.hist(diff.cpu().detach().numpy().flatten(), bins='auto')  # arguments are passed to np.histogram\n",
    "plt.title(\"Histogram for output error\")\n",
    "plt.show()"
   ]
  },
  {
   "cell_type": "code",
   "execution_count": 6,
   "metadata": {},
   "outputs": [
    {
     "name": "stdout",
     "output_type": "stream",
     "text": [
      "diff grad max: tensor(0.2368, device='cuda:0')\n",
      "diff grad min: tensor(-0.2273, device='cuda:0')\n",
      "diff grad mean: tensor(-0.0103, device='cuda:0')\n"
     ]
    },
    {
     "data": {
      "image/png": "[encoded data removed]",
      "text/plain": [
       "<Figure size 432x288 with 1 Axes>"
      ]
     },
     "metadata": {
      "needs_background": "light"
     },
     "output_type": "display_data"
    }
   ],
   "source": [
    "diff_grad = (ufc.weight.grad - fc.weight.grad)\n",
    "print(\"diff grad max:\", diff_grad.max())\n",
    "print(\"diff grad min:\", diff_grad.min())\n",
    "print(\"diff grad mean:\", diff_grad.mean())\n",
    "\n",
    "fig = plt.hist(diff_grad.cpu().detach().numpy().flatten(), bins='auto')  # arguments are passed to np.histogram\n",
    "plt.title(\"Histogram for grad error\")\n",
    "plt.show()"
   ]
  },
  {
   "cell_type": "code",
   "execution_count": 7,
   "metadata": {},
   "outputs": [
    {
     "name": "stdout",
     "output_type": "stream",
     "text": [
      "tensor([[-1.7186,  0.0766,  2.3008,  ..., -1.0563,  0.3886, -1.5150],\n",
      "        [ 0.5675, -1.6226,  1.1828,  ..., -0.1916,  0.0214, -1.5133],\n",
      "        [-0.0919,  0.9636, -1.5125,  ..., -0.2905, -0.8876,  0.3581],\n",
      "        ...,\n",
      "        [-0.8336, -0.1592,  1.9178,  ..., -1.5674,  1.0440,  0.8813],\n",
      "        [-0.9030, -0.7242, -0.2721,  ...,  0.7154,  1.3541,  1.7112],\n",
      "        [-2.1893, -0.7908,  2.0019,  ...,  1.6094, -2.0121, -0.8614]],\n",
      "       device='cuda:0', grad_fn=<FxpLinearFunctionBackward>)\n"
     ]
    }
   ],
   "source": [
    "print(ufc_o)"
   ]
  },
  {
   "cell_type": "code",
   "execution_count": null,
   "metadata": {},
   "outputs": [],
   "source": []
  }
 ],
 "metadata": {
  "kernelspec": {
   "display_name": "Python 3",
   "language": "python",
   "name": "python3"
  },
  "language_info": {
   "codemirror_mode": {
    "name": "ipython",
    "version": 3
   },
   "file_extension": ".py",
   "mimetype": "text/x-python",
   "name": "python",
   "nbconvert_exporter": "python",
   "pygments_lexer": "ipython3",
   "version": "3.8.5"
  }
 },
 "nbformat": 4,
 "nbformat_minor": 4
}
