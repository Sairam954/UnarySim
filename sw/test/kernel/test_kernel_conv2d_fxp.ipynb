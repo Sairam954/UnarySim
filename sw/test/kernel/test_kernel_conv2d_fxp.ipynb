{
 "cells": [
  {
   "cell_type": "code",
   "execution_count": 1,
   "metadata": {},
   "outputs": [],
   "source": [
    "%load_ext autoreload\n",
    "%autoreload 2"
   ]
  },
  {
   "cell_type": "code",
   "execution_count": 2,
   "metadata": {},
   "outputs": [],
   "source": [
    "import torch\n",
    "from UnarySim.sw.kernel.conv import *\n",
    "import matplotlib.pyplot as plt\n",
    "import time\n",
    "import math"
   ]
  },
  {
   "cell_type": "code",
   "execution_count": 3,
   "metadata": {},
   "outputs": [],
   "source": [
    "device = torch.device(\"cuda:0\" if torch.cuda.is_available() else \"cpu\")\n"
   ]
  },
  {
   "cell_type": "code",
   "execution_count": 4,
   "metadata": {},
   "outputs": [],
   "source": [
    "in_channels = 32\n",
    "out_channels = 16\n",
    "kernel_size = (3, 3)\n",
    "stride = 2\n",
    "padding = 0\n",
    "dilation = 1\n",
    "groups = 1\n",
    "bias = True\n",
    "padding_mode = 'zeros'\n",
    "\n",
    "bitwidth = 8\n",
    "rounding = \"round\"\n",
    "\n",
    "total_bit = 11\n",
    "input_int_bit = 3\n",
    "input_fra_bit = total_bit - input_int_bit\n",
    "\n",
    "input_size = (128, 32)\n",
    "input = ((torch.rand(32, in_channels, input_size[0], input_size[1]) - 0.5) * 2**(2*input_int_bit)).round().div(2**(input_int_bit)).to(device)\n",
    "\n",
    "conv2d = torch.nn.Conv2d(in_channels, out_channels, kernel_size, stride, padding, dilation, groups, bias, padding_mode).to(device)\n",
    "conv2d_o = conv2d(input)\n",
    "\n",
    "uconv2d = FxpConv2d(in_channels, out_channels, kernel_size, stride, padding, dilation, groups, bias, padding_mode, \n",
    "                        binary_weight=conv2d.weight.data, binary_bias=conv2d.bias, bitwidth=bitwidth, rounding=rounding).to(device)\n",
    "uconv2d_o = uconv2d(input)\n",
    "\n",
    "(conv2d_o - uconv2d_o).abs().mean().backward()"
   ]
  },
  {
   "cell_type": "code",
   "execution_count": 5,
   "metadata": {},
   "outputs": [
    {
     "name": "stdout",
     "output_type": "stream",
     "text": [
      "diff max: tensor(0.0264, device='cuda:0', grad_fn=<MaxBackward1>)\n",
      "diff min: tensor(-0.0264, device='cuda:0', grad_fn=<MinBackward1>)\n",
      "diff mean: tensor(3.9105e-05, device='cuda:0', grad_fn=<MeanBackward0>)\n"
     ]
    },
    {
     "data": {
      "image/png": "[encoded data removed]",
      "text/plain": [
       "<Figure size 432x288 with 1 Axes>"
      ]
     },
     "metadata": {
      "needs_background": "light"
     },
     "output_type": "display_data"
    }
   ],
   "source": [
    "diff = (uconv2d_o - conv2d_o)\n",
    "print(\"diff max:\", diff.max())\n",
    "print(\"diff min:\", diff.min())\n",
    "print(\"diff mean:\", diff.mean())\n",
    "\n",
    "fig = plt.hist(diff.cpu().detach().numpy().flatten(), bins='auto')  # arguments are passed to np.histogram\n",
    "plt.title(\"Histogram for output error\")\n",
    "plt.show()"
   ]
  },
  {
   "cell_type": "code",
   "execution_count": 6,
   "metadata": {},
   "outputs": [
    {
     "name": "stdout",
     "output_type": "stream",
     "text": [
      "diff grad max: tensor(0.0269, device='cuda:0')\n",
      "diff grad min: tensor(-0.0267, device='cuda:0')\n",
      "diff grad mean: tensor(3.6186e-05, device='cuda:0')\n"
     ]
    },
    {
     "data": {
      "image/png": "[encoded data removed]",
      "text/plain": [
       "<Figure size 432x288 with 1 Axes>"
      ]
     },
     "metadata": {
      "needs_background": "light"
     },
     "output_type": "display_data"
    }
   ],
   "source": [
    "diff_grad = (uconv2d.weight.grad - conv2d.weight.grad)\n",
    "print(\"diff grad max:\", diff_grad.max())\n",
    "print(\"diff grad min:\", diff_grad.min())\n",
    "print(\"diff grad mean:\", diff_grad.mean())\n",
    "\n",
    "fig = plt.hist(diff_grad.cpu().detach().numpy().flatten(), bins='auto')  # arguments are passed to np.histogram\n",
    "plt.title(\"Histogram for grad error\")\n",
    "plt.show()"
   ]
  },
  {
   "cell_type": "code",
   "execution_count": 7,
   "metadata": {},
   "outputs": [
    {
     "name": "stdout",
     "output_type": "stream",
     "text": [
      "input size:  torch.Size([2, 60, 56])\n",
      "input transpose size:  torch.Size([2, 56, 60])\n",
      "input reshape size:  torch.Size([112, 60])\n",
      "\n",
      "weight size:  torch.Size([2, 3, 4, 5])\n",
      "weight view size:  torch.Size([2, 60])\n",
      "weight transpose size:  torch.Size([60, 2])\n",
      "\n",
      "out size:  torch.Size([112, 2])\n",
      "out reshape size:  torch.Size([2, 56, 2])\n",
      "out transpose size:  torch.Size([2, 2, 56])\n",
      "out fold size:  torch.Size([2, 2, 7, 8])\n",
      "\n"
     ]
    },
    {
     "data": {
      "text/plain": [
       "tensor(3.8147e-06, grad_fn=<MaxBackward1>)"
      ]
     },
     "execution_count": 7,
     "metadata": {},
     "output_type": "execute_result"
    }
   ],
   "source": [
    "batch = 2\n",
    "inp = torch.randn(batch, 3, 10, 12)\n",
    "w_tensor = torch.randn(2, 3, 4, 5)\n",
    "\n",
    "fc_w = torch.nn.Parameter(w_tensor, requires_grad=True)\n",
    "fc_inp = torch.nn.functional.unfold(inp, (4, 5))\n",
    "print(\"input size: \", fc_inp.size())\n",
    "fc_inp = fc_inp.transpose(1, 2)\n",
    "print(\"input transpose size: \", fc_inp.size())\n",
    "fc_inp = fc_inp.reshape(-1, fc_inp.size()[-1])\n",
    "print(\"input reshape size: \", fc_inp.size())\n",
    "print()\n",
    "\n",
    "print(\"weight size: \", fc_w.size())\n",
    "fc_w = fc_w.view(fc_w.size(0), -1)\n",
    "print(\"weight view size: \", fc_w.size())\n",
    "fc_w = fc_w.t()\n",
    "print(\"weight transpose size: \", fc_w.size())\n",
    "print()\n",
    "\n",
    "fc_out = fc_inp.matmul(fc_w)\n",
    "print(\"out size: \", fc_out.size())\n",
    "fc_out = fc_out.reshape(batch, -1, fc_out.size()[-1])\n",
    "print(\"out reshape size: \", fc_out.size())\n",
    "fc_out = fc_out.transpose(1, 2)\n",
    "print(\"out transpose size: \", fc_out.size())\n",
    "fc_out = torch.nn.functional.fold(fc_out, (7, 8), (1, 1))\n",
    "print(\"out fold size: \", fc_out.size())\n",
    "fc_out.sum().backward()\n",
    "print()\n",
    "\n",
    "conv_w = torch.nn.Parameter(w_tensor, requires_grad=True)\n",
    "conv_out = torch.nn.functional.conv2d(inp, conv_w)\n",
    "conv_out.sum().backward()\n",
    "(conv_out - fc_out).abs().max()"
   ]
  },
  {
   "cell_type": "code",
   "execution_count": null,
   "metadata": {},
   "outputs": [],
   "source": []
  }
 ],
 "metadata": {
  "kernelspec": {
   "display_name": "Python 3",
   "language": "python",
   "name": "python3"
  },
  "language_info": {
   "codemirror_mode": {
    "name": "ipython",
    "version": 3
   },
   "file_extension": ".py",
   "mimetype": "text/x-python",
   "name": "python",
   "nbconvert_exporter": "python",
   "pygments_lexer": "ipython3",
   "version": "3.8.5"
  }
 },
 "nbformat": 4,
 "nbformat_minor": 4
}
