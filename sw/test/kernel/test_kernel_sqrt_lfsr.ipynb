{
 "cells": [
  {
   "cell_type": "code",
   "execution_count": 1,
   "metadata": {},
   "outputs": [],
   "source": [
    "%load_ext autoreload\n",
    "%autoreload 2"
   ]
  },
  {
   "cell_type": "code",
   "execution_count": 2,
   "metadata": {},
   "outputs": [],
   "source": [
    "import torch\n",
    "from UnarySim.sw.kernel.sqrt import UnarySqrt\n",
    "from UnarySim.sw.stream.gen import RNG, SourceGen, BSGen\n",
    "from UnarySim.sw.metric.metric import ProgressiveError\n",
    "import matplotlib.pyplot as plt\n",
    "import time\n",
    "import math\n",
    "import numpy as np"
   ]
  },
  {
   "cell_type": "code",
   "execution_count": 3,
   "metadata": {},
   "outputs": [],
   "source": [
    "device = torch.device(\"cuda:0\" if torch.cuda.is_available() else \"cpu\")"
   ]
  },
  {
   "cell_type": "code",
   "execution_count": 4,
   "metadata": {},
   "outputs": [],
   "source": [
    "def test(rng=\"Sobol\", \n",
    "         mode=\"unipolar\", \n",
    "         bitwidth=8, \n",
    "         jk_trace=False, \n",
    "         emit=True, \n",
    "         total_cnt=100, \n",
    "         depth_kernel=1, \n",
    "         depth_sr=2, \n",
    "         savepdf=False):\n",
    "    stype = torch.float\n",
    "    rtype = torch.float\n",
    "    \n",
    "    print(\"========================================================\")\n",
    "    print(mode)\n",
    "    print(\"========================================================\")\n",
    "    # all input values are non-negative\n",
    "    low_bound = 0\n",
    "    if mode == \"unipolar\":\n",
    "        up_bound = 2**bitwidth\n",
    "    elif mode == \"bipolar\":\n",
    "        low_bound = 0\n",
    "        up_bound = 2**(bitwidth-1)\n",
    "\n",
    "    input_list = []\n",
    "    for input_val in range(low_bound, up_bound+1, 1):\n",
    "        input_list.append(input_val)\n",
    "    \n",
    "    input = torch.tensor(input_list).type(torch.float).div(up_bound).to(device)\n",
    "\n",
    "    output = torch.sqrt(input).to(device)\n",
    "    \n",
    "    result_pe_total = []\n",
    "    for rand_idx in range(1, total_cnt+1):\n",
    "        outputPE = ProgressiveError(output, mode=mode).to(device)\n",
    "    \n",
    "        inputPE  = ProgressiveError(input,  mode=mode).to(device)\n",
    "        inputSRC = SourceGen(input, bitwidth, mode=mode, rtype=rtype)().to(device)\n",
    "\n",
    "        dut_sqrt = UnarySqrt(mode=mode, \n",
    "                         jk_trace=jk_trace, \n",
    "                         depth_kernel=depth_kernel, \n",
    "                         rng=\"SYS\", \n",
    "                         rng_dim=4, \n",
    "                         emit=emit, \n",
    "                         depth_sr=depth_sr, \n",
    "                         stype=torch.float).to(device)\n",
    "        \n",
    "        inputRNG = RNG(bitwidth, rand_idx, rng, rtype)().to(device)\n",
    "        inputBS = BSGen(inputSRC, inputRNG, stype).to(device)\n",
    "        with torch.no_grad():\n",
    "            start_time = time.time()\n",
    "            for i in range(2**bitwidth):\n",
    "                input_bs = inputBS(torch.tensor([i]))\n",
    "                inputPE.Monitor(input_bs)\n",
    "\n",
    "                ouyput_bs = dut_sqrt(input_bs)\n",
    "                outputPE.Monitor(ouyput_bs)\n",
    "        \n",
    "        # get the result for different rng\n",
    "        result_pe = outputPE()[1].cpu().numpy()\n",
    "        result_pe_total.append(result_pe)\n",
    "    \n",
    "    # get the result for different rng\n",
    "    result_pe_total = np.array(result_pe_total)\n",
    "    \n",
    "    #######################################################################\n",
    "    # check the error of all simulation\n",
    "    #######################################################################\n",
    "    print(\"RMSE:{:1.4}\".format(math.sqrt(np.mean(result_pe_total**2))))\n",
    "    print(\"MAE: {:1.4}\".format(np.mean(np.abs(result_pe_total))))\n",
    "    print(\"bias:{:1.4}\".format(np.mean(result_pe_total)))\n",
    "    print(\"max: {:1.4}\".format(np.max(result_pe_total)))\n",
    "    print(\"min: {:1.4}\".format(np.min(result_pe_total)))\n",
    "\n",
    "    #######################################################################\n",
    "    # check the error according to input value\n",
    "    #######################################################################\n",
    "    max_total = np.max(result_pe_total, axis=0)\n",
    "    min_total = np.min(result_pe_total, axis=0)\n",
    "    avg_total = np.mean(result_pe_total, axis=0)\n",
    "    \n",
    "    axis_len = outputPE()[1].size()[0]\n",
    "    input_x_axis = []\n",
    "    for axis_index in range(axis_len):\n",
    "        input_x_axis.append((axis_index/(axis_len-1)*(up_bound-low_bound)+low_bound)/up_bound)\n",
    "    fig, ax = plt.subplots()\n",
    "    ax.fill_between(input_x_axis, max_total, avg_total, facecolor=\"red\", alpha=0.75)\n",
    "    ax.fill_between(input_x_axis, avg_total, min_total, facecolor=\"blue\", alpha=0.75)\n",
    "    ax.plot(input_x_axis, avg_total, label='Avg error', color=\"black\", linewidth=0.3)\n",
    "    plt.tight_layout()\n",
    "    plt.xlabel('Input value')\n",
    "    plt.ylabel('Output error')\n",
    "    plt.xticks(np.arange(0, 1.1, step=0.5))\n",
    "    # ax.xaxis.set_ticklabels([])\n",
    "    plt.xlim(0, 1)\n",
    "    plt.yticks(np.arange(-0.2, 0.4, step=0.2))\n",
    "    # ax.yaxis.set_ticklabels([])\n",
    "    plt.ylim(-0.3, 0.55)\n",
    "    plt.grid(b=True, which=\"both\", axis=\"y\", linestyle=\"--\", color=\"grey\", linewidth=0.3)\n",
    "    fig.set_size_inches(2, 2)\n",
    "    ax.spines['right'].set_visible(False)\n",
    "    ax.spines['top'].set_visible(False)\n",
    "    if savepdf is True:\n",
    "        if emit is True:\n",
    "            plt.savefig(\"sqrt-\"+mode+\"-bw\"+str(bitwidth)+\"-bit\"+\"-emitting\"+\"-sr\"+str(depth_sr)+\"-k\"+str(depth_kernel)+\".pdf\", \n",
    "                        dpi=300, \n",
    "                        bbox_inches='tight')\n",
    "        else:\n",
    "            if jk_trace is True:\n",
    "                plt.savefig(\"sqrt-\"+mode+\"-bw\"+str(bitwidth)+\"-bit\"+\"-inserting-JK\"+\".pdf\", \n",
    "                            dpi=300, \n",
    "                            bbox_inches='tight')\n",
    "            else:\n",
    "                plt.savefig(\"sqrt-\"+mode+\"-bw\"+str(bitwidth)+\"-bit\"+\"-inserting-IS\"+\"-k\"+str(depth_kernel)+\".pdf\", \n",
    "                            dpi=300, \n",
    "                            bbox_inches='tight')\n",
    "    plt.show()\n",
    "    plt.close()"
   ]
  },
  {
   "cell_type": "markdown",
   "metadata": {},
   "source": [
    "# performance comparison\n",
    "## bit-inseting and bit-emitting"
   ]
  },
  {
   "cell_type": "code",
   "execution_count": 5,
   "metadata": {},
   "outputs": [
    {
     "name": "stdout",
     "output_type": "stream",
     "text": [
      "unipolar, bit-emitting\n",
      "========================================================\n",
      "unipolar\n",
      "========================================================\n",
      "RMSE:0.03349\n",
      "MAE: 0.02163\n",
      "bias:-0.02065\n",
      "max: 0.02702\n",
      "min: -0.1249\n"
     ]
    },
    {
     "data": {
      "image/png": "[encoded data removed]",
      "text/plain": [
       "<Figure size 144x144 with 1 Axes>"
      ]
     },
     "metadata": {
      "needs_background": "light"
     },
     "output_type": "display_data"
    },
    {
     "name": "stdout",
     "output_type": "stream",
     "text": [
      "unipolar, bit-inserting-JK\n",
      "========================================================\n",
      "unipolar\n",
      "========================================================\n",
      "RMSE:0.1081\n",
      "MAE: 0.08791\n",
      "bias:-0.0879\n",
      "max: 0.002001\n",
      "min: -0.2005\n"
     ]
    },
    {
     "data": {
      "image/png": "[encoded data removed]",
      "text/plain": [
       "<Figure size 144x144 with 1 Axes>"
      ]
     },
     "metadata": {
      "needs_background": "light"
     },
     "output_type": "display_data"
    },
    {
     "name": "stdout",
     "output_type": "stream",
     "text": [
      "unipolar, bit-inserting-IS\n",
      "========================================================\n",
      "unipolar\n",
      "========================================================\n",
      "RMSE:0.1299\n",
      "MAE: 0.1076\n",
      "bias:-0.101\n",
      "max: 0.9375\n",
      "min: -0.2223\n"
     ]
    },
    {
     "data": {
      "image/png": "[encoded data removed]",
      "text/plain": [
       "<Figure size 144x144 with 1 Axes>"
      ]
     },
     "metadata": {
      "needs_background": "light"
     },
     "output_type": "display_data"
    },
    {
     "name": "stdout",
     "output_type": "stream",
     "text": [
      "bipolar, bit-emitting\n",
      "========================================================\n",
      "bipolar\n",
      "========================================================\n",
      "RMSE:0.1013\n",
      "MAE: 0.0828\n",
      "bias:-0.08175\n",
      "max: 0.08594\n",
      "min: -0.2154\n"
     ]
    },
    {
     "data": {
      "image/png": "[encoded data removed]",
      "text/plain": [
       "<Figure size 144x144 with 1 Axes>"
      ]
     },
     "metadata": {
      "needs_background": "light"
     },
     "output_type": "display_data"
    },
    {
     "name": "stdout",
     "output_type": "stream",
     "text": [
      "bipolar, bit-inserting-JK\n",
      "========================================================\n",
      "bipolar\n",
      "========================================================\n",
      "RMSE:0.1127\n",
      "MAE: 0.0979\n",
      "bias:-0.09731\n",
      "max: 0.1016\n",
      "min: -0.2398\n"
     ]
    },
    {
     "data": {
      "image/png": "[encoded data removed]",
      "text/plain": [
       "<Figure size 144x144 with 1 Axes>"
      ]
     },
     "metadata": {
      "needs_background": "light"
     },
     "output_type": "display_data"
    },
    {
     "name": "stdout",
     "output_type": "stream",
     "text": [
      "bipolar, bit-inserting-IS\n",
      "========================================================\n",
      "bipolar\n",
      "========================================================\n",
      "RMSE:0.1125\n",
      "MAE: 0.09752\n",
      "bias:-0.09688\n",
      "max: 0.1016\n",
      "min: -0.241\n"
     ]
    },
    {
     "data": {
      "image/png": "[encoded data removed]",
      "text/plain": [
       "<Figure size 144x144 with 1 Axes>"
      ]
     },
     "metadata": {
      "needs_background": "light"
     },
     "output_type": "display_data"
    }
   ],
   "source": [
    "print(\"unipolar, bit-emitting\")\n",
    "test(rng=\"LFSR\", mode = \"unipolar\", bitwidth = 8, emit = True, jk_trace = False, depth_kernel=1, depth_sr=4, savepdf=False)\n",
    "print(\"unipolar, bit-inserting-JK\")\n",
    "test(rng=\"LFSR\", mode = \"unipolar\", bitwidth = 8, emit = False, jk_trace = True, depth_kernel=1, depth_sr=2, savepdf=False)\n",
    "print(\"unipolar, bit-inserting-IS\")\n",
    "test(rng=\"LFSR\", mode = \"unipolar\", bitwidth = 8, emit = False, jk_trace = False, depth_kernel=1, depth_sr=2, savepdf=False)\n",
    "\n",
    "print(\"bipolar, bit-emitting\")\n",
    "test(rng=\"LFSR\", mode = \"bipolar\", bitwidth = 8, emit = True, jk_trace = False, depth_kernel=1, depth_sr=4, savepdf=False)\n",
    "print(\"bipolar, bit-inserting-JK\")\n",
    "test(rng=\"LFSR\", mode = \"bipolar\", bitwidth = 8, emit = False, jk_trace = True, depth_kernel=1, depth_sr=2, savepdf=False)\n",
    "print(\"bipolar, bit-inserting-IS\")\n",
    "test(rng=\"LFSR\", mode = \"bipolar\", bitwidth = 8, emit = False, jk_trace = False, depth_kernel=1, depth_sr=2, savepdf=False)"
   ]
  },
  {
   "cell_type": "code",
   "execution_count": null,
   "metadata": {},
   "outputs": [],
   "source": []
  },
  {
   "cell_type": "code",
   "execution_count": null,
   "metadata": {},
   "outputs": [],
   "source": []
  }
 ],
 "metadata": {
  "kernelspec": {
   "display_name": "Python 3",
   "language": "python",
   "name": "python3"
  },
  "language_info": {
   "codemirror_mode": {
    "name": "ipython",
    "version": 3
   },
   "file_extension": ".py",
   "mimetype": "text/x-python",
   "name": "python",
   "nbconvert_exporter": "python",
   "pygments_lexer": "ipython3",
   "version": "3.8.5"
  }
 },
 "nbformat": 4,
 "nbformat_minor": 4
}
