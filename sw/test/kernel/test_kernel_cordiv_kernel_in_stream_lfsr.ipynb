{
 "cells": [
  {
   "cell_type": "code",
   "execution_count": 1,
   "metadata": {},
   "outputs": [],
   "source": [
    "%load_ext autoreload\n",
    "%autoreload 2"
   ]
  },
  {
   "cell_type": "code",
   "execution_count": 2,
   "metadata": {},
   "outputs": [],
   "source": [
    "import torch\n",
    "from UnarySim.sw.kernel.div import UnaryDiv\n",
    "from UnarySim.sw.stream.gen import RNG, SourceGen, BSGen\n",
    "from UnarySim.sw.metric.metric import ProgressiveError\n",
    "import matplotlib as mpl\n",
    "import matplotlib.pyplot as plt\n",
    "from mpl_toolkits.mplot3d import Axes3D\n",
    "from matplotlib import ticker, cm\n",
    "from matplotlib.ticker import LinearLocator, FormatStrFormatter\n",
    "import time\n",
    "import math\n",
    "import numpy as np\n",
    "import seaborn as sns"
   ]
  },
  {
   "cell_type": "code",
   "execution_count": 3,
   "metadata": {},
   "outputs": [],
   "source": [
    "device = torch.device(\"cuda:0\" if torch.cuda.is_available() else \"cpu\")"
   ]
  },
  {
   "cell_type": "code",
   "execution_count": 4,
   "metadata": {},
   "outputs": [],
   "source": [
    "def test(mode=\"unipolar\", \n",
    "         depth_abs=4, \n",
    "         depth_kernel=4, \n",
    "         depth_sync=2, \n",
    "         shiftreg=False, \n",
    "         rng=\"Sobol\", \n",
    "         rng_dim=4, \n",
    "         bitwidth=8, \n",
    "         total_cnt=100, \n",
    "         savepdf=False):\n",
    "    \n",
    "    stype = torch.float\n",
    "    btype = torch.float\n",
    "    rtype = torch.float\n",
    "\n",
    "    print(\"========================================================\")\n",
    "    print(mode)\n",
    "    print(\"========================================================\")\n",
    "    if mode is \"unipolar\":\n",
    "        # all values in unipolar are non-negative\n",
    "        # dividend is always non greater than divisor\n",
    "        # divisor is non-zero\n",
    "        low_bound = 0\n",
    "        up_bound = 2**bitwidth\n",
    "    elif mode is \"bipolar\":\n",
    "        # values in bipolar are arbitrarily positive or negative\n",
    "        # abs of dividend is always non greater than abs of divisor\n",
    "        # abs of divisor is non-zero\n",
    "        low_bound = -2**(bitwidth-1)\n",
    "        up_bound = 2**(bitwidth-1)\n",
    "\n",
    "    divisor_list = []\n",
    "    dividend_list = []\n",
    "    for divisor_val in range(up_bound, low_bound-1, -1):\n",
    "        divisor_list.append([])\n",
    "        dividend_list.append([])\n",
    "        for dividend_val in range(low_bound, up_bound+1, 1):\n",
    "            divisor_list[up_bound-divisor_val].append(divisor_val)\n",
    "            dividend_list[up_bound-divisor_val].append(dividend_val)\n",
    "    \n",
    "    dividend = torch.tensor(dividend_list).type(torch.float).div(up_bound).to(device)\n",
    "    divisor = torch.tensor(divisor_list).type(torch.float).div(up_bound).to(device)\n",
    "    quotient = dividend.div(divisor)\n",
    "    \n",
    "    # find the invalid postions in quotient\n",
    "    quotient_nan = torch.isnan(quotient)\n",
    "    quotient_inf = torch.isinf(quotient)\n",
    "    quotient_mask = quotient_nan + quotient_inf\n",
    "    quotient[quotient_mask] = 0\n",
    "    quotient = quotient.clamp(-1, 1)\n",
    "    \n",
    "    result_pe_total = []\n",
    "    for rand_idx in range(1, total_cnt+1):\n",
    "        quotientPE = ProgressiveError(quotient, mode=mode).to(device)\n",
    "    \n",
    "        dividendPE = ProgressiveError(dividend, mode=mode).to(device)\n",
    "        dividendSRC = SourceGen(dividend, bitwidth, mode=mode, rtype=rtype)().to(device)\n",
    "\n",
    "        divisorPE  = ProgressiveError(divisor,  mode=mode).to(device)\n",
    "        divisorSRC = SourceGen(divisor, bitwidth, mode=mode, rtype=rtype)().to(device)\n",
    "        dut_div = UnaryDiv(depth_abs=depth_abs, \n",
    "                       depth_kernel=depth_kernel, \n",
    "                       depth_sync=depth_sync, \n",
    "                       shiftreg_abs=shiftreg, \n",
    "                       mode=mode, \n",
    "                       rng=\"SYS\", \n",
    "                       rng_dim=rng_dim, \n",
    "                       stype=stype, \n",
    "                       btype=btype).to(device)\n",
    "        # define the bit stream regen for dividend and divisor\n",
    "        regenRNG = RNG(bitwidth, rand_idx+2, rng, rtype)().to(device)\n",
    "\n",
    "        maxCNT = 2**bitwidth - 1\n",
    "\n",
    "        dividendCNT = torch.zeros_like(dividend) + 2**(bitwidth - 1)\n",
    "        dividendBS_regen = BSGen(dividendCNT, regenRNG, stype).to(device)\n",
    "\n",
    "        divisorCNT = torch.zeros_like(dividend) + 2**(bitwidth - 1)\n",
    "        divisorBS_regen = BSGen(divisorCNT, regenRNG, stype).to(device)\n",
    "    \n",
    "        dividendRNG = RNG(bitwidth, rand_idx, rng, rtype)().to(device)\n",
    "        dividendBS = BSGen(dividendSRC, dividendRNG, stype).to(device)\n",
    "        divisorRNG = RNG(bitwidth, rand_idx+1, rng, rtype)().to(device)\n",
    "        divisorBS = BSGen(divisorSRC, divisorRNG, stype).to(device)\n",
    "        with torch.no_grad():\n",
    "            start_time = time.time()\n",
    "            for i in range(2**bitwidth):\n",
    "                dividend_bs = dividendBS(torch.tensor([i]))\n",
    "                dividendPE.Monitor(dividend_bs)\n",
    "\n",
    "                divisor_bs = divisorBS(torch.tensor([i]))\n",
    "                divisorPE.Monitor(divisor_bs)\n",
    "\n",
    "                dividendCNT = (dividendCNT + dividend_bs*2 - 1).clamp(0, maxCNT)\n",
    "                dividendBS_regen.source = dividendCNT.clone().detach()\n",
    "                dividend_bs_regen = dividendBS_regen(torch.tensor([i]))\n",
    "\n",
    "                divisorCNT  = ( divisorCNT +  divisor_bs*2 - 1).clamp(0, maxCNT)\n",
    "                divisorBS_regen.source = divisorCNT.clone().detach()\n",
    "                divisor_bs_regen  =  divisorBS_regen(torch.tensor([i]))\n",
    "\n",
    "                quotient_bs = dut_div(dividend_bs_regen, divisor_bs_regen)\n",
    "                quotientPE.Monitor(quotient_bs)\n",
    "        \n",
    "        # get the result for different rng\n",
    "        result_pe = quotientPE()[1].cpu().numpy()\n",
    "        result_pe[quotient_mask.cpu().numpy()] = np.nan\n",
    "        result_pe_total.append(result_pe)\n",
    "    \n",
    "    # get the result for different rng\n",
    "    result_pe_total = np.array(result_pe_total)\n",
    "    \n",
    "    #######################################################################\n",
    "    # check the error of all simulation\n",
    "    #######################################################################\n",
    "    result_pe_total_no_nan = result_pe_total[~np.isnan(result_pe_total)]\n",
    "    print(\"RMSE:{:1.4}\".format(math.sqrt(np.mean(result_pe_total_no_nan**2))))\n",
    "    print(\"MAE: {:1.4}\".format(np.mean(np.abs(result_pe_total_no_nan))))\n",
    "    print(\"bias:{:1.4}\".format(np.mean(result_pe_total_no_nan)))\n",
    "    print(\"max: {:1.4}\".format(np.max(result_pe_total_no_nan)))\n",
    "    print(\"min: {:1.4}\".format(np.min(result_pe_total_no_nan)))\n",
    "\n",
    "    #######################################################################\n",
    "    # check the error according to input value\n",
    "    #######################################################################\n",
    "    avg_total = np.mean(result_pe_total, axis=0)\n",
    "    avg_total[quotient_mask.cpu().numpy()] = 0\n",
    "    fig, ax = plt.subplots()\n",
    "    fig.set_size_inches(5.5, 4)\n",
    "    axis_len = quotientPE()[1].size()[0]\n",
    "    divisor_y_axis = []\n",
    "    dividend_x_axis = []\n",
    "    for axis_index in range(axis_len):\n",
    "        divisor_y_axis.append((up_bound-axis_index/(axis_len-1)*(up_bound-low_bound))/up_bound)\n",
    "        dividend_x_axis.append((axis_index/(axis_len-1)*(up_bound-low_bound)+low_bound)/up_bound)\n",
    "    X, Y = np.meshgrid(dividend_x_axis, divisor_y_axis)\n",
    "    Z = avg_total\n",
    "    levels = [-0.09, -0.06, -0.03, 0.00, 0.03, 0.06, 0.09]\n",
    "    cs = plt.contourf(X, Y, Z, levels, cmap=cm.RdBu, extend=\"both\")\n",
    "    cbar = fig.colorbar(cs)\n",
    "    \n",
    "    # plt.tight_layout()\n",
    "    plt.xticks(np.arange(low_bound/up_bound, up_bound/up_bound+0.1, step=0.5))\n",
    "    # ax.xaxis.set_ticklabels([])\n",
    "    plt.yticks(np.arange(low_bound/up_bound, up_bound/up_bound+0.1, step=0.5))\n",
    "    # ax.yaxis.set_ticklabels([])\n",
    "    \n",
    "    if savepdf is True:\n",
    "        plt.savefig(\"div-\"+mode+\"-bw\"+str(bitwidth)+\"-cordivkernel-in-stream\"+\".pdf\", \n",
    "                    dpi=300, \n",
    "                    bbox_inches='tight')\n",
    "                \n",
    "    plt.show()\n",
    "    plt.close()"
   ]
  },
  {
   "cell_type": "code",
   "execution_count": 5,
   "metadata": {},
   "outputs": [
    {
     "name": "stdout",
     "output_type": "stream",
     "text": [
      "========================================================\n",
      "unipolar\n",
      "========================================================\n",
      "RMSE:0.09223\n",
      "MAE: 0.0463\n",
      "bias:0.01852\n",
      "max: 1.0\n",
      "min: -0.8008\n"
     ]
    },
    {
     "data": {
      "image/png": "[encoded data removed]",
      "text/plain": [
       "<Figure size 396x288 with 2 Axes>"
      ]
     },
     "metadata": {
      "needs_background": "light"
     },
     "output_type": "display_data"
    },
    {
     "name": "stdout",
     "output_type": "stream",
     "text": [
      "========================================================\n",
      "bipolar\n",
      "========================================================\n",
      "RMSE:0.565\n",
      "MAE: 0.4286\n",
      "bias:0.2267\n",
      "max: 2.0\n",
      "min: -1.773\n"
     ]
    },
    {
     "data": {
      "image/png": "[encoded data removed]",
      "text/plain": [
       "<Figure size 396x288 with 2 Axes>"
      ]
     },
     "metadata": {
      "needs_background": "light"
     },
     "output_type": "display_data"
    }
   ],
   "source": [
    "test(mode=\"unipolar\", depth_abs=3, depth_kernel=2, depth_sync=2, shiftreg=False, rng=\"LFSR\", rng_dim=4, bitwidth=8, total_cnt=100, savepdf=False)\n",
    "test(mode=\"bipolar\", depth_abs=3, depth_kernel=2, depth_sync=2, shiftreg=False, rng=\"LFSR\", rng_dim=4, bitwidth=8, total_cnt=100, savepdf=False)"
   ]
  },
  {
   "cell_type": "code",
   "execution_count": null,
   "metadata": {},
   "outputs": [],
   "source": []
  }
 ],
 "metadata": {
  "kernelspec": {
   "display_name": "Python 3",
   "language": "python",
   "name": "python3"
  },
  "language_info": {
   "codemirror_mode": {
    "name": "ipython",
    "version": 3
   },
   "file_extension": ".py",
   "mimetype": "text/x-python",
   "name": "python",
   "nbconvert_exporter": "python",
   "pygments_lexer": "ipython3",
   "version": "3.7.7"
  }
 },
 "nbformat": 4,
 "nbformat_minor": 4
}
