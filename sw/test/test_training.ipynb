{
 "cells": [
  {
   "cell_type": "code",
   "execution_count": 1,
   "metadata": {},
   "outputs": [],
   "source": [
    "%load_ext autoreload\n",
    "%autoreload 2"
   ]
  },
  {
   "cell_type": "code",
   "execution_count": 2,
   "metadata": {},
   "outputs": [],
   "source": [
    "import torch\n",
    "from UnarySim.sw.kernel.mul import UnaryMul\n",
    "from UnarySim.sw.stream.gen import RNG, SourceGen, BSGen\n",
    "from UnarySim.sw.metric.metric import ProgressiveError\n",
    "import matplotlib.pyplot as plt\n",
    "import time\n",
    "import math"
   ]
  },
  {
   "cell_type": "code",
   "execution_count": 3,
   "metadata": {},
   "outputs": [],
   "source": [
    "device = torch.device(\"cuda:0\" if torch.cuda.is_available() else \"cpu\")\n",
    "rng = \"Sobol\""
   ]
  },
  {
   "cell_type": "code",
   "execution_count": 4,
   "metadata": {},
   "outputs": [
    {
     "name": "stdout",
     "output_type": "stream",
     "text": [
      "(Parameter containing:\n",
      "tensor([ 0.0000,  0.1875, -0.0312, -0.2031, -0.2500,  0.0469,  0.0312, -0.2500],\n",
      "       device='cuda:0'), Parameter containing:\n",
      "tensor([ 0.0039,  0.0078, -0.0039,  0.0000,  0.0039, -0.0234,  0.0000, -0.0078],\n",
      "       device='cuda:0'))\n",
      "tensor(-0.4492, device='cuda:0', grad_fn=<SumBackward0>) tensor(-0.0195, device='cuda:0')\n"
     ]
    }
   ],
   "source": [
    "col = 8\n",
    "modes = [\"bipolar\"]\n",
    "static = True\n",
    "bitwidth = 8\n",
    "stype = torch.int8\n",
    "rtype = torch.long\n",
    "\n",
    "for mode in modes:\n",
    "    if mode == \"unipolar\":\n",
    "        input_prob = torch.nn.Parameter(torch.rand(col).mul(2**bitwidth).round().div(2**bitwidth)).to(device)\n",
    "        iVec = torch.rand(col).mul(2**bitwidth).round().div(2**bitwidth).to(device)\n",
    "    elif mode == \"bipolar\":\n",
    "        input_prob =  torch.nn.Parameter(torch.rand(col).mul(2).sub(1).mul(2**bitwidth).round().div(2**bitwidth)).to(device)\n",
    "        iVec = torch.rand(col).mul(2).sub(1).mul(2**bitwidth).round().div(2**bitwidth).to(device)\n",
    "\n",
    "    dut_mul = UnaryMul(bitwidth=bitwidth, mode=mode, static=static, input_prob_1=input_prob, stype=stype, rtype=rtype).to(device)\n",
    "\n",
    "    oVec = torch.mul(iVec, input_prob).mul(2**bitwidth).round().div(2**bitwidth).to(device)\n",
    "\n",
    "    iVecPE = ProgressiveError(iVec, mode=mode).to(device)\n",
    "    oVecPE = ProgressiveError(oVec, mode=mode).to(device)\n",
    "\n",
    "    iVecSource = SourceGen(iVec, bitwidth, mode=mode)().to(device)\n",
    "    iVecRNG = RNG(bitwidth, 1, rng)().to(device)\n",
    "    iVecBS = BSGen(iVecSource, iVecRNG, stype).to(device)\n",
    "\n",
    "    with torch.no_grad():\n",
    "        start_time = time.time()\n",
    "        for i in range(2**bitwidth):             # unary cycle count 2^n for n-bit binary data\n",
    "            iBS = iVecBS(torch.tensor([i]))      # input bit stream generation\n",
    "            iVecPE.Monitor(iBS)                  # input accuracy measurement\n",
    "            oVecU = dut_mul(iBS)                 # computing kernel, e.g., multiplication\n",
    "            oVecPE.Monitor(oVecU)                # output accuracy measurement\n",
    "    \n",
    "    print(oVecPE())\n",
    "    \n",
    "    bin_sum = torch.sum(oVec)\n",
    "    unary_sum = torch.sum(oVecPE()[1])\n",
    "    print(bin_sum, unary_sum)"
   ]
  },
  {
   "cell_type": "code",
   "execution_count": null,
   "metadata": {},
   "outputs": [],
   "source": []
  }
 ],
 "metadata": {
  "kernelspec": {
   "display_name": "Python 3",
   "language": "python",
   "name": "python3"
  },
  "language_info": {
   "codemirror_mode": {
    "name": "ipython",
    "version": 3
   },
   "file_extension": ".py",
   "mimetype": "text/x-python",
   "name": "python",
   "nbconvert_exporter": "python",
   "pygments_lexer": "ipython3",
   "version": "3.8.5"
  }
 },
 "nbformat": 4,
 "nbformat_minor": 4
}
